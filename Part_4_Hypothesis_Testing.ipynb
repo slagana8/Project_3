{
 "cells": [
  {
   "cell_type": "markdown",
   "id": "2aa1b5a4",
   "metadata": {},
   "source": [
    "# Hypothesis testing"
   ]
  },
  {
   "cell_type": "code",
   "execution_count": 175,
   "id": "8923a5ac",
   "metadata": {},
   "outputs": [],
   "source": [
    "# imports\n",
    "import pandas as pd\n",
    "import numpy as np\n",
    "import matplotlib.pyplot as plt\n",
    "import seaborn as sns\n",
    "import scipy.stats as stats\n",
    "from statsmodels.stats.multicomp import pairwise_tukeyhsd"
   ]
  },
  {
   "cell_type": "code",
   "execution_count": 176,
   "id": "b259019f",
   "metadata": {},
   "outputs": [
    {
     "data": {
      "text/html": [
       "<div>\n",
       "<style scoped>\n",
       "    .dataframe tbody tr th:only-of-type {\n",
       "        vertical-align: middle;\n",
       "    }\n",
       "\n",
       "    .dataframe tbody tr th {\n",
       "        vertical-align: top;\n",
       "    }\n",
       "\n",
       "    .dataframe thead th {\n",
       "        text-align: right;\n",
       "    }\n",
       "</style>\n",
       "<table border=\"1\" class=\"dataframe\">\n",
       "  <thead>\n",
       "    <tr style=\"text-align: right;\">\n",
       "      <th></th>\n",
       "      <th>imdb_id</th>\n",
       "      <th>adult</th>\n",
       "      <th>backdrop_path</th>\n",
       "      <th>belongs_to_collection</th>\n",
       "      <th>budget</th>\n",
       "      <th>genres</th>\n",
       "      <th>homepage</th>\n",
       "      <th>id</th>\n",
       "      <th>original_language</th>\n",
       "      <th>original_title</th>\n",
       "      <th>...</th>\n",
       "      <th>revenue</th>\n",
       "      <th>runtime</th>\n",
       "      <th>spoken_languages</th>\n",
       "      <th>status</th>\n",
       "      <th>tagline</th>\n",
       "      <th>title</th>\n",
       "      <th>video</th>\n",
       "      <th>vote_average</th>\n",
       "      <th>vote_count</th>\n",
       "      <th>certification</th>\n",
       "    </tr>\n",
       "  </thead>\n",
       "  <tbody>\n",
       "    <tr>\n",
       "      <th>0</th>\n",
       "      <td>tt0176694</td>\n",
       "      <td>0.0</td>\n",
       "      <td>/43VrmHOChLcAOG9S5tIFdsxr3u8.jpg</td>\n",
       "      <td>NaN</td>\n",
       "      <td>0.0</td>\n",
       "      <td>[{'id': 16, 'name': 'Animation'}, {'id': 18, '...</td>\n",
       "      <td>NaN</td>\n",
       "      <td>116369.0</td>\n",
       "      <td>en</td>\n",
       "      <td>Az ember tragédiája</td>\n",
       "      <td>...</td>\n",
       "      <td>0.0</td>\n",
       "      <td>166.0</td>\n",
       "      <td>[{'english_name': 'Hungarian', 'iso_639_1': 'h...</td>\n",
       "      <td>Released</td>\n",
       "      <td>NaN</td>\n",
       "      <td>The Tragedy of Man</td>\n",
       "      <td>0.0</td>\n",
       "      <td>7.5</td>\n",
       "      <td>13.0</td>\n",
       "      <td>NaN</td>\n",
       "    </tr>\n",
       "    <tr>\n",
       "      <th>1</th>\n",
       "      <td>tt0210470</td>\n",
       "      <td>0.0</td>\n",
       "      <td>NaN</td>\n",
       "      <td>NaN</td>\n",
       "      <td>0.0</td>\n",
       "      <td>[{'id': 99, 'name': 'Documentary'}]</td>\n",
       "      <td>NaN</td>\n",
       "      <td>239465.0</td>\n",
       "      <td>en</td>\n",
       "      <td>50 Feet of String</td>\n",
       "      <td>...</td>\n",
       "      <td>0.0</td>\n",
       "      <td>53.0</td>\n",
       "      <td>[{'english_name': 'English', 'iso_639_1': 'en'...</td>\n",
       "      <td>Released</td>\n",
       "      <td>NaN</td>\n",
       "      <td>50 Feet of String</td>\n",
       "      <td>0.0</td>\n",
       "      <td>6.0</td>\n",
       "      <td>3.0</td>\n",
       "      <td>NaN</td>\n",
       "    </tr>\n",
       "    <tr>\n",
       "      <th>2</th>\n",
       "      <td>tt0323808</td>\n",
       "      <td>0.0</td>\n",
       "      <td>NaN</td>\n",
       "      <td>NaN</td>\n",
       "      <td>7750000.0</td>\n",
       "      <td>[{'id': 9648, 'name': 'Mystery'}, {'id': 27, '...</td>\n",
       "      <td>http://www.thewickertreemovie.com/</td>\n",
       "      <td>79544.0</td>\n",
       "      <td>en</td>\n",
       "      <td>The Wicker Tree</td>\n",
       "      <td>...</td>\n",
       "      <td>0.0</td>\n",
       "      <td>96.0</td>\n",
       "      <td>[{'english_name': 'English', 'iso_639_1': 'en'...</td>\n",
       "      <td>Released</td>\n",
       "      <td>Accept our sacrifice</td>\n",
       "      <td>The Wicker Tree</td>\n",
       "      <td>0.0</td>\n",
       "      <td>3.9</td>\n",
       "      <td>41.0</td>\n",
       "      <td>R</td>\n",
       "    </tr>\n",
       "    <tr>\n",
       "      <th>3</th>\n",
       "      <td>tt0372538</td>\n",
       "      <td>0.0</td>\n",
       "      <td>NaN</td>\n",
       "      <td>NaN</td>\n",
       "      <td>5000000.0</td>\n",
       "      <td>[{'id': 28, 'name': 'Action'}, {'id': 80, 'nam...</td>\n",
       "      <td>http://www.spythemovie.com/</td>\n",
       "      <td>323867.0</td>\n",
       "      <td>en</td>\n",
       "      <td>Spy</td>\n",
       "      <td>...</td>\n",
       "      <td>0.0</td>\n",
       "      <td>110.0</td>\n",
       "      <td>[{'english_name': 'English', 'iso_639_1': 'en'...</td>\n",
       "      <td>Released</td>\n",
       "      <td>NaN</td>\n",
       "      <td>Spy</td>\n",
       "      <td>0.0</td>\n",
       "      <td>7.0</td>\n",
       "      <td>1.0</td>\n",
       "      <td>NaN</td>\n",
       "    </tr>\n",
       "    <tr>\n",
       "      <th>4</th>\n",
       "      <td>tt0376136</td>\n",
       "      <td>0.0</td>\n",
       "      <td>/lsGygPY9Qt2OclZ67hAYoHLQhAf.jpg</td>\n",
       "      <td>NaN</td>\n",
       "      <td>45000000.0</td>\n",
       "      <td>[{'id': 35, 'name': 'Comedy'}, {'id': 18, 'nam...</td>\n",
       "      <td>NaN</td>\n",
       "      <td>23514.0</td>\n",
       "      <td>en</td>\n",
       "      <td>The Rum Diary</td>\n",
       "      <td>...</td>\n",
       "      <td>24000000.0</td>\n",
       "      <td>120.0</td>\n",
       "      <td>[{'english_name': 'German', 'iso_639_1': 'de',...</td>\n",
       "      <td>Released</td>\n",
       "      <td>One part outrage. One part justice. Three part...</td>\n",
       "      <td>The Rum Diary</td>\n",
       "      <td>0.0</td>\n",
       "      <td>5.9</td>\n",
       "      <td>980.0</td>\n",
       "      <td>R</td>\n",
       "    </tr>\n",
       "  </tbody>\n",
       "</table>\n",
       "<p>5 rows × 26 columns</p>\n",
       "</div>"
      ],
      "text/plain": [
       "     imdb_id  adult                     backdrop_path belongs_to_collection  \\\n",
       "0  tt0176694    0.0  /43VrmHOChLcAOG9S5tIFdsxr3u8.jpg                   NaN   \n",
       "1  tt0210470    0.0                               NaN                   NaN   \n",
       "2  tt0323808    0.0                               NaN                   NaN   \n",
       "3  tt0372538    0.0                               NaN                   NaN   \n",
       "4  tt0376136    0.0  /lsGygPY9Qt2OclZ67hAYoHLQhAf.jpg                   NaN   \n",
       "\n",
       "       budget                                             genres  \\\n",
       "0         0.0  [{'id': 16, 'name': 'Animation'}, {'id': 18, '...   \n",
       "1         0.0                [{'id': 99, 'name': 'Documentary'}]   \n",
       "2   7750000.0  [{'id': 9648, 'name': 'Mystery'}, {'id': 27, '...   \n",
       "3   5000000.0  [{'id': 28, 'name': 'Action'}, {'id': 80, 'nam...   \n",
       "4  45000000.0  [{'id': 35, 'name': 'Comedy'}, {'id': 18, 'nam...   \n",
       "\n",
       "                             homepage        id original_language  \\\n",
       "0                                 NaN  116369.0                en   \n",
       "1                                 NaN  239465.0                en   \n",
       "2  http://www.thewickertreemovie.com/   79544.0                en   \n",
       "3         http://www.spythemovie.com/  323867.0                en   \n",
       "4                                 NaN   23514.0                en   \n",
       "\n",
       "        original_title  ...     revenue  runtime  \\\n",
       "0  Az ember tragédiája  ...         0.0    166.0   \n",
       "1    50 Feet of String  ...         0.0     53.0   \n",
       "2      The Wicker Tree  ...         0.0     96.0   \n",
       "3                  Spy  ...         0.0    110.0   \n",
       "4        The Rum Diary  ...  24000000.0    120.0   \n",
       "\n",
       "                                    spoken_languages    status  \\\n",
       "0  [{'english_name': 'Hungarian', 'iso_639_1': 'h...  Released   \n",
       "1  [{'english_name': 'English', 'iso_639_1': 'en'...  Released   \n",
       "2  [{'english_name': 'English', 'iso_639_1': 'en'...  Released   \n",
       "3  [{'english_name': 'English', 'iso_639_1': 'en'...  Released   \n",
       "4  [{'english_name': 'German', 'iso_639_1': 'de',...  Released   \n",
       "\n",
       "                                             tagline               title  \\\n",
       "0                                                NaN  The Tragedy of Man   \n",
       "1                                                NaN   50 Feet of String   \n",
       "2                               Accept our sacrifice     The Wicker Tree   \n",
       "3                                                NaN                 Spy   \n",
       "4  One part outrage. One part justice. Three part...       The Rum Diary   \n",
       "\n",
       "   video  vote_average vote_count certification  \n",
       "0    0.0           7.5       13.0           NaN  \n",
       "1    0.0           6.0        3.0           NaN  \n",
       "2    0.0           3.9       41.0             R  \n",
       "3    0.0           7.0        1.0           NaN  \n",
       "4    0.0           5.9      980.0             R  \n",
       "\n",
       "[5 rows x 26 columns]"
      ]
     },
     "execution_count": 176,
     "metadata": {},
     "output_type": "execute_result"
    }
   ],
   "source": [
    "# Load data \n",
    "df = pd.read_csv(\"Data/combined_all_data.csv.gz\",lineterminator='\\n')\n",
    "df.head()"
   ]
  },
  {
   "cell_type": "code",
   "execution_count": 177,
   "id": "f671ff25",
   "metadata": {},
   "outputs": [
    {
     "name": "stdout",
     "output_type": "stream",
     "text": [
      "<class 'pandas.core.frame.DataFrame'>\n",
      "RangeIndex: 39348 entries, 0 to 39347\n",
      "Data columns (total 26 columns):\n",
      " #   Column                 Non-Null Count  Dtype  \n",
      "---  ------                 --------------  -----  \n",
      " 0   imdb_id                39348 non-null  object \n",
      " 1   adult                  39348 non-null  float64\n",
      " 2   backdrop_path          24819 non-null  object \n",
      " 3   belongs_to_collection  2464 non-null   object \n",
      " 4   budget                 39348 non-null  float64\n",
      " 5   genres                 39348 non-null  object \n",
      " 6   homepage               10031 non-null  object \n",
      " 7   id                     39348 non-null  float64\n",
      " 8   original_language      39348 non-null  object \n",
      " 9   original_title         39348 non-null  object \n",
      " 10  overview               38446 non-null  object \n",
      " 11  popularity             39348 non-null  float64\n",
      " 12  poster_path            35869 non-null  object \n",
      " 13  production_companies   39348 non-null  object \n",
      " 14  production_countries   39348 non-null  object \n",
      " 15  release_date           38761 non-null  object \n",
      " 16  revenue                39348 non-null  float64\n",
      " 17  runtime                38810 non-null  float64\n",
      " 18  spoken_languages       39348 non-null  object \n",
      " 19  status                 39348 non-null  object \n",
      " 20  tagline                14049 non-null  object \n",
      " 21  title                  39348 non-null  object \n",
      " 22  video                  39348 non-null  float64\n",
      " 23  vote_average           39348 non-null  float64\n",
      " 24  vote_count             39348 non-null  float64\n",
      " 25  certification          8937 non-null   object \n",
      "dtypes: float64(9), object(17)\n",
      "memory usage: 7.8+ MB\n"
     ]
    }
   ],
   "source": [
    "df.info()"
   ]
  },
  {
   "cell_type": "markdown",
   "id": "5ee73569",
   "metadata": {},
   "source": [
    "# Q1. Does the MPAA rating of a movie (G/PG/PG-13/R) affect how much revenue the movie generates?\n",
    "\n",
    "Null Hypothesis: MPAA ratings do not affect how much revenue a movie generates\n",
    "\n",
    "Alternate Hypothesis: MPAA ratings have a significant affect on how much revenue a movie generates.\n",
    "\n"
   ]
  },
  {
   "cell_type": "code",
   "execution_count": null,
   "id": "3736cc3d",
   "metadata": {},
   "outputs": [],
   "source": []
  },
  {
   "cell_type": "code",
   "execution_count": 178,
   "id": "a232afbc",
   "metadata": {},
   "outputs": [
    {
     "data": {
      "text/plain": [
       "R          3525\n",
       "NR         2242\n",
       "PG-13      1914\n",
       "PG          850\n",
       "G           293\n",
       "NC-17       104\n",
       "Unrated       5\n",
       "-             1\n",
       "R             1\n",
       "PG-13         1\n",
       "10            1\n",
       "Name: certification, dtype: int64"
      ]
     },
     "execution_count": 178,
     "metadata": {},
     "output_type": "execute_result"
    }
   ],
   "source": [
    "# get certification features\n",
    "df[\"certification\"].value_counts()"
   ]
  },
  {
   "cell_type": "code",
   "execution_count": 179,
   "id": "242c18ab",
   "metadata": {},
   "outputs": [],
   "source": [
    "# Drop - value \n",
    "df.drop(df.loc[df[\"certification\"]==\"-\"].index, inplace = True)"
   ]
  },
  {
   "cell_type": "code",
   "execution_count": 180,
   "id": "031edd6b",
   "metadata": {},
   "outputs": [],
   "source": [
    "# drop 10 value\n",
    "df.drop(df.loc[df[\"certification\"]==\"10\"].index, inplace = True)"
   ]
  },
  {
   "cell_type": "code",
   "execution_count": 181,
   "id": "ca94e344",
   "metadata": {},
   "outputs": [],
   "source": [
    "# Drop unrated \n",
    "df.drop(df.loc[df[\"certification\"]==\"Unrated\"].index, inplace = True)"
   ]
  },
  {
   "cell_type": "code",
   "execution_count": 182,
   "id": "765cf785",
   "metadata": {},
   "outputs": [
    {
     "data": {
      "text/html": [
       "<div>\n",
       "<style scoped>\n",
       "    .dataframe tbody tr th:only-of-type {\n",
       "        vertical-align: middle;\n",
       "    }\n",
       "\n",
       "    .dataframe tbody tr th {\n",
       "        vertical-align: top;\n",
       "    }\n",
       "\n",
       "    .dataframe thead th {\n",
       "        text-align: right;\n",
       "    }\n",
       "</style>\n",
       "<table border=\"1\" class=\"dataframe\">\n",
       "  <thead>\n",
       "    <tr style=\"text-align: right;\">\n",
       "      <th></th>\n",
       "      <th>imdb_id</th>\n",
       "      <th>adult</th>\n",
       "      <th>backdrop_path</th>\n",
       "      <th>belongs_to_collection</th>\n",
       "      <th>budget</th>\n",
       "      <th>genres</th>\n",
       "      <th>homepage</th>\n",
       "      <th>id</th>\n",
       "      <th>original_language</th>\n",
       "      <th>original_title</th>\n",
       "      <th>...</th>\n",
       "      <th>revenue</th>\n",
       "      <th>runtime</th>\n",
       "      <th>spoken_languages</th>\n",
       "      <th>status</th>\n",
       "      <th>tagline</th>\n",
       "      <th>title</th>\n",
       "      <th>video</th>\n",
       "      <th>vote_average</th>\n",
       "      <th>vote_count</th>\n",
       "      <th>certification</th>\n",
       "    </tr>\n",
       "  </thead>\n",
       "  <tbody>\n",
       "    <tr>\n",
       "      <th>4231</th>\n",
       "      <td>tt1091191</td>\n",
       "      <td>0.0</td>\n",
       "      <td>/hmEbQB5UlcwobldcSDNlLZiUnmA.jpg</td>\n",
       "      <td>NaN</td>\n",
       "      <td>40000000.0</td>\n",
       "      <td>[{'id': 10752, 'name': 'War'}, {'id': 28, 'nam...</td>\n",
       "      <td>http://www.lonesurvivorfilm.com</td>\n",
       "      <td>193756.0</td>\n",
       "      <td>en</td>\n",
       "      <td>Lone Survivor</td>\n",
       "      <td>...</td>\n",
       "      <td>149295601.0</td>\n",
       "      <td>121.0</td>\n",
       "      <td>[{'english_name': 'English', 'iso_639_1': 'en'...</td>\n",
       "      <td>Released</td>\n",
       "      <td>Based on true acts of courage</td>\n",
       "      <td>Lone Survivor</td>\n",
       "      <td>0.0</td>\n",
       "      <td>7.4</td>\n",
       "      <td>3513.0</td>\n",
       "      <td>R</td>\n",
       "    </tr>\n",
       "  </tbody>\n",
       "</table>\n",
       "<p>1 rows × 26 columns</p>\n",
       "</div>"
      ],
      "text/plain": [
       "        imdb_id  adult                     backdrop_path  \\\n",
       "4231  tt1091191    0.0  /hmEbQB5UlcwobldcSDNlLZiUnmA.jpg   \n",
       "\n",
       "     belongs_to_collection      budget  \\\n",
       "4231                   NaN  40000000.0   \n",
       "\n",
       "                                                 genres  \\\n",
       "4231  [{'id': 10752, 'name': 'War'}, {'id': 28, 'nam...   \n",
       "\n",
       "                             homepage        id original_language  \\\n",
       "4231  http://www.lonesurvivorfilm.com  193756.0                en   \n",
       "\n",
       "     original_title  ...      revenue  runtime  \\\n",
       "4231  Lone Survivor  ...  149295601.0    121.0   \n",
       "\n",
       "                                       spoken_languages    status  \\\n",
       "4231  [{'english_name': 'English', 'iso_639_1': 'en'...  Released   \n",
       "\n",
       "                            tagline          title  video  vote_average  \\\n",
       "4231  Based on true acts of courage  Lone Survivor    0.0           7.4   \n",
       "\n",
       "     vote_count certification  \n",
       "4231     3513.0            R   \n",
       "\n",
       "[1 rows x 26 columns]"
      ]
     },
     "execution_count": 182,
     "metadata": {},
     "output_type": "execute_result"
    }
   ],
   "source": [
    "# Inspect stand alone r value\n",
    "df.loc[df[\"certification\"]==\"R \"]"
   ]
  },
  {
   "cell_type": "code",
   "execution_count": 183,
   "id": "d6f6044b",
   "metadata": {},
   "outputs": [],
   "source": [
    "# remove space in stand alone R\n",
    "df[\"certification\"] = df[\"certification\"].replace(\"R \",\"R\")"
   ]
  },
  {
   "cell_type": "code",
   "execution_count": 184,
   "id": "a6c6f6f5",
   "metadata": {},
   "outputs": [
    {
     "data": {
      "text/html": [
       "<div>\n",
       "<style scoped>\n",
       "    .dataframe tbody tr th:only-of-type {\n",
       "        vertical-align: middle;\n",
       "    }\n",
       "\n",
       "    .dataframe tbody tr th {\n",
       "        vertical-align: top;\n",
       "    }\n",
       "\n",
       "    .dataframe thead th {\n",
       "        text-align: right;\n",
       "    }\n",
       "</style>\n",
       "<table border=\"1\" class=\"dataframe\">\n",
       "  <thead>\n",
       "    <tr style=\"text-align: right;\">\n",
       "      <th></th>\n",
       "      <th>imdb_id</th>\n",
       "      <th>adult</th>\n",
       "      <th>backdrop_path</th>\n",
       "      <th>belongs_to_collection</th>\n",
       "      <th>budget</th>\n",
       "      <th>genres</th>\n",
       "      <th>homepage</th>\n",
       "      <th>id</th>\n",
       "      <th>original_language</th>\n",
       "      <th>original_title</th>\n",
       "      <th>...</th>\n",
       "      <th>revenue</th>\n",
       "      <th>runtime</th>\n",
       "      <th>spoken_languages</th>\n",
       "      <th>status</th>\n",
       "      <th>tagline</th>\n",
       "      <th>title</th>\n",
       "      <th>video</th>\n",
       "      <th>vote_average</th>\n",
       "      <th>vote_count</th>\n",
       "      <th>certification</th>\n",
       "    </tr>\n",
       "  </thead>\n",
       "  <tbody>\n",
       "    <tr>\n",
       "      <th>37427</th>\n",
       "      <td>tt3110960</td>\n",
       "      <td>0.0</td>\n",
       "      <td>/aJxq9qRoOuVPCRagcDNVB4nrDan.jpg</td>\n",
       "      <td>NaN</td>\n",
       "      <td>0.0</td>\n",
       "      <td>[{'id': 36, 'name': 'History'}, {'id': 18, 'na...</td>\n",
       "      <td>NaN</td>\n",
       "      <td>262958.0</td>\n",
       "      <td>en</td>\n",
       "      <td>Jimmy's Hall</td>\n",
       "      <td>...</td>\n",
       "      <td>4825184.0</td>\n",
       "      <td>106.0</td>\n",
       "      <td>[{'english_name': 'English', 'iso_639_1': 'en'...</td>\n",
       "      <td>Released</td>\n",
       "      <td>Where Anything Goes and Everyone Belongs.</td>\n",
       "      <td>Jimmy's Hall</td>\n",
       "      <td>0.0</td>\n",
       "      <td>6.7</td>\n",
       "      <td>153.0</td>\n",
       "      <td>PG-13</td>\n",
       "    </tr>\n",
       "  </tbody>\n",
       "</table>\n",
       "<p>1 rows × 26 columns</p>\n",
       "</div>"
      ],
      "text/plain": [
       "         imdb_id  adult                     backdrop_path  \\\n",
       "37427  tt3110960    0.0  /aJxq9qRoOuVPCRagcDNVB4nrDan.jpg   \n",
       "\n",
       "      belongs_to_collection  budget  \\\n",
       "37427                   NaN     0.0   \n",
       "\n",
       "                                                  genres homepage        id  \\\n",
       "37427  [{'id': 36, 'name': 'History'}, {'id': 18, 'na...      NaN  262958.0   \n",
       "\n",
       "      original_language original_title  ...    revenue  runtime  \\\n",
       "37427                en   Jimmy's Hall  ...  4825184.0    106.0   \n",
       "\n",
       "                                        spoken_languages    status  \\\n",
       "37427  [{'english_name': 'English', 'iso_639_1': 'en'...  Released   \n",
       "\n",
       "                                         tagline         title  video  \\\n",
       "37427  Where Anything Goes and Everyone Belongs.  Jimmy's Hall    0.0   \n",
       "\n",
       "       vote_average vote_count certification  \n",
       "37427           6.7      153.0        PG-13   \n",
       "\n",
       "[1 rows x 26 columns]"
      ]
     },
     "execution_count": 184,
     "metadata": {},
     "output_type": "execute_result"
    }
   ],
   "source": [
    "# Inspect standalone PG-13\n",
    "df.loc[df[\"certification\"]==\"PG-13 \"]"
   ]
  },
  {
   "cell_type": "code",
   "execution_count": 185,
   "id": "f4930c53",
   "metadata": {},
   "outputs": [],
   "source": [
    "# remove space in PG-13\n",
    "df[\"certification\"] = df[\"certification\"].replace(\"PG-13 \",\"PG-13\")"
   ]
  },
  {
   "cell_type": "code",
   "execution_count": 186,
   "id": "7f521e59",
   "metadata": {},
   "outputs": [],
   "source": [
    "# Drop NR rating because not asked for\n",
    "df.drop(df.loc[df[\"certification\"]==\"NR\"].index, inplace = True)\n"
   ]
  },
  {
   "cell_type": "code",
   "execution_count": 187,
   "id": "1963f416",
   "metadata": {},
   "outputs": [],
   "source": [
    "# Drop NC-17 because not asked for\n",
    "df.drop(df.loc[df[\"certification\"]==\"NC-17\"].index, inplace = True)"
   ]
  },
  {
   "cell_type": "code",
   "execution_count": 188,
   "id": "bc4c257a",
   "metadata": {},
   "outputs": [],
   "source": [
    "# Drop nan values \n",
    "df = df.dropna(subset = [\"certification\",\"revenue\"])"
   ]
  },
  {
   "cell_type": "code",
   "execution_count": 189,
   "id": "d6704c29",
   "metadata": {},
   "outputs": [
    {
     "data": {
      "text/plain": [
       "dict_keys(['R', 'G', 'PG-13', 'PG'])"
      ]
     },
     "execution_count": 189,
     "metadata": {},
     "output_type": "execute_result"
    }
   ],
   "source": [
    "# Create groups dict\n",
    "# Create groups dict\n",
    "groups = {}\n",
    "# Loop \n",
    "for i in df[\"certification\"].unique():\n",
    "    # get series for group and rename\n",
    "    data = df.loc[df[\"certification\"]==i, \"revenue\"].copy()\n",
    "    \n",
    "    # save into dict\n",
    "    groups[i] = data\n",
    "groups.keys()"
   ]
  },
  {
   "cell_type": "markdown",
   "id": "92b7040b",
   "metadata": {},
   "source": [
    "## Normality Test"
   ]
  },
  {
   "cell_type": "code",
   "execution_count": 190,
   "id": "a60eac5c",
   "metadata": {},
   "outputs": [
    {
     "data": {
      "text/html": [
       "<div>\n",
       "<style scoped>\n",
       "    .dataframe tbody tr th:only-of-type {\n",
       "        vertical-align: middle;\n",
       "    }\n",
       "\n",
       "    .dataframe tbody tr th {\n",
       "        vertical-align: top;\n",
       "    }\n",
       "\n",
       "    .dataframe thead th {\n",
       "        text-align: right;\n",
       "    }\n",
       "</style>\n",
       "<table border=\"1\" class=\"dataframe\">\n",
       "  <thead>\n",
       "    <tr style=\"text-align: right;\">\n",
       "      <th></th>\n",
       "      <th>n</th>\n",
       "      <th>p</th>\n",
       "      <th>test_stat</th>\n",
       "    </tr>\n",
       "  </thead>\n",
       "  <tbody>\n",
       "    <tr>\n",
       "      <th>R</th>\n",
       "      <td>3526.0</td>\n",
       "      <td>0.000000e+00</td>\n",
       "      <td>4424.729181</td>\n",
       "    </tr>\n",
       "    <tr>\n",
       "      <th>G</th>\n",
       "      <td>293.0</td>\n",
       "      <td>3.897739e-83</td>\n",
       "      <td>379.508332</td>\n",
       "    </tr>\n",
       "    <tr>\n",
       "      <th>PG-13</th>\n",
       "      <td>1915.0</td>\n",
       "      <td>0.000000e+00</td>\n",
       "      <td>1945.155293</td>\n",
       "    </tr>\n",
       "    <tr>\n",
       "      <th>PG</th>\n",
       "      <td>850.0</td>\n",
       "      <td>7.598428e-156</td>\n",
       "      <td>714.350666</td>\n",
       "    </tr>\n",
       "  </tbody>\n",
       "</table>\n",
       "</div>"
      ],
      "text/plain": [
       "            n              p    test_stat\n",
       "R      3526.0   0.000000e+00  4424.729181\n",
       "G       293.0   3.897739e-83   379.508332\n",
       "PG-13  1915.0   0.000000e+00  1945.155293\n",
       "PG      850.0  7.598428e-156   714.350666"
      ]
     },
     "execution_count": 190,
     "metadata": {},
     "output_type": "execute_result"
    }
   ],
   "source": [
    "# Normality test of each group and confirming there is greater than 15 in each group \n",
    "norm_results = {}\n",
    "for i, data in groups.items():\n",
    "    stat, p = stats.normaltest(data)\n",
    "    # save pval, test stat, and size of group \n",
    "    norm_results[i] = {\"n\":len(data),\n",
    "                      \"p\":p,\n",
    "                      \"test_stat\":stat,}\n",
    "# convert to df\n",
    "norm_results_df = pd.DataFrame(norm_results).T\n",
    "norm_results_df"
   ]
  },
  {
   "cell_type": "code",
   "execution_count": 191,
   "id": "f9da6cd6",
   "metadata": {},
   "outputs": [
    {
     "data": {
      "text/html": [
       "<div>\n",
       "<style scoped>\n",
       "    .dataframe tbody tr th:only-of-type {\n",
       "        vertical-align: middle;\n",
       "    }\n",
       "\n",
       "    .dataframe tbody tr th {\n",
       "        vertical-align: top;\n",
       "    }\n",
       "\n",
       "    .dataframe thead th {\n",
       "        text-align: right;\n",
       "    }\n",
       "</style>\n",
       "<table border=\"1\" class=\"dataframe\">\n",
       "  <thead>\n",
       "    <tr style=\"text-align: right;\">\n",
       "      <th></th>\n",
       "      <th>n</th>\n",
       "      <th>p</th>\n",
       "      <th>test_stat</th>\n",
       "      <th>sig</th>\n",
       "    </tr>\n",
       "  </thead>\n",
       "  <tbody>\n",
       "    <tr>\n",
       "      <th>R</th>\n",
       "      <td>3526.0</td>\n",
       "      <td>0.000000e+00</td>\n",
       "      <td>4424.729181</td>\n",
       "      <td>True</td>\n",
       "    </tr>\n",
       "    <tr>\n",
       "      <th>G</th>\n",
       "      <td>293.0</td>\n",
       "      <td>3.897739e-83</td>\n",
       "      <td>379.508332</td>\n",
       "      <td>True</td>\n",
       "    </tr>\n",
       "    <tr>\n",
       "      <th>PG-13</th>\n",
       "      <td>1915.0</td>\n",
       "      <td>0.000000e+00</td>\n",
       "      <td>1945.155293</td>\n",
       "      <td>True</td>\n",
       "    </tr>\n",
       "    <tr>\n",
       "      <th>PG</th>\n",
       "      <td>850.0</td>\n",
       "      <td>7.598428e-156</td>\n",
       "      <td>714.350666</td>\n",
       "      <td>True</td>\n",
       "    </tr>\n",
       "  </tbody>\n",
       "</table>\n",
       "</div>"
      ],
      "text/plain": [
       "            n              p    test_stat   sig\n",
       "R      3526.0   0.000000e+00  4424.729181  True\n",
       "G       293.0   3.897739e-83   379.508332  True\n",
       "PG-13  1915.0   0.000000e+00  1945.155293  True\n",
       "PG      850.0  7.598428e-156   714.350666  True"
      ]
     },
     "execution_count": 191,
     "metadata": {},
     "output_type": "execute_result"
    }
   ],
   "source": [
    "### checking sig with pandas \n",
    "norm_results_df['sig'] = norm_results_df['p'] < .05 \n",
    "norm_results_df\n"
   ]
  },
  {
   "cell_type": "markdown",
   "id": "c6b0bef6",
   "metadata": {},
   "source": [
    "- Our groups don't have normal distribution since all have pvalues < 0.05"
   ]
  },
  {
   "cell_type": "markdown",
   "id": "287b07ee",
   "metadata": {},
   "source": [
    "## Testing assumption of Equal Variance"
   ]
  },
  {
   "cell_type": "code",
   "execution_count": 192,
   "id": "8fe35fbb",
   "metadata": {},
   "outputs": [
    {
     "data": {
      "text/plain": [
       "LeveneResult(statistic=91.60424151374123, pvalue=4.486207892078094e-58)"
      ]
     },
     "execution_count": 192,
     "metadata": {},
     "output_type": "execute_result"
    }
   ],
   "source": [
    "stats.levene(*groups.values())"
   ]
  },
  {
   "cell_type": "markdown",
   "id": "985bc77d",
   "metadata": {},
   "source": [
    "- Our p-value is <0.05 therefore, our groups do not have equal variance"
   ]
  },
  {
   "cell_type": "markdown",
   "id": "bb6ca3f3",
   "metadata": {},
   "source": [
    "## Perform Kruskal Wallis Test\n",
    "\n",
    "Due to the fact\n",
    "- Target is numeric and has more than 2 samples\n",
    "- Observations are independent\n",
    "- Doesn't have normality or equal variance"
   ]
  },
  {
   "cell_type": "code",
   "execution_count": 193,
   "id": "b28b0ed1",
   "metadata": {},
   "outputs": [
    {
     "data": {
      "text/plain": [
       "KruskalResult(statistic=217.83909871253755, pvalue=5.886116029875737e-47)"
      ]
     },
     "execution_count": 193,
     "metadata": {},
     "output_type": "execute_result"
    }
   ],
   "source": [
    "# Perform test\n",
    "results = stats.kruskal(*groups.values())\n",
    "results"
   ]
  },
  {
   "cell_type": "markdown",
   "id": "495ef3a0",
   "metadata": {},
   "source": [
    "## Final Assumption"
   ]
  },
  {
   "cell_type": "markdown",
   "id": "bc6378ed",
   "metadata": {},
   "source": [
    "- Based on our results, our p-value is <0.05 therefore, we reject our null hypothesis and confirm that MPAA ratings have a significant affect on revenue"
   ]
  },
  {
   "cell_type": "code",
   "execution_count": 194,
   "id": "5e5af25e",
   "metadata": {},
   "outputs": [
    {
     "data": {
      "text/html": [
       "<table class=\"simpletable\">\n",
       "<caption>Multiple Comparison of Means - Tukey HSD, FWER=0.05</caption>\n",
       "<tr>\n",
       "  <th>group1</th> <th>group2</th>    <th>meandiff</th>     <th>p-adj</th>      <th>lower</th>          <th>upper</th>     <th>reject</th>\n",
       "</tr>\n",
       "<tr>\n",
       "     <td>G</td>     <td>PG</td>    <td>48378105.4618</td>   <td>0.0</td>   <td>23305846.7025</td>  <td>73450364.2212</td>  <td>True</td> \n",
       "</tr>\n",
       "<tr>\n",
       "     <td>G</td>    <td>PG-13</td>  <td>50292001.9357</td>   <td>0.0</td>   <td>27075597.8391</td>  <td>73508406.0324</td>  <td>True</td> \n",
       "</tr>\n",
       "<tr>\n",
       "     <td>G</td>      <td>R</td>   <td>-10550941.3515</td> <td>0.6237</td> <td>-33052545.7032</td>  <td>11950663.0002</td>  <td>False</td>\n",
       "</tr>\n",
       "<tr>\n",
       "    <td>PG</td>    <td>PG-13</td>  <td>1913896.4739</td>  <td>0.9884</td> <td>-13339527.2599</td>  <td>17167320.2077</td>  <td>False</td>\n",
       "</tr>\n",
       "<tr>\n",
       "    <td>PG</td>      <td>R</td>   <td>-58929046.8133</td>   <td>0.0</td>  <td>-73070748.0839</td> <td>-44787345.5428</td>  <td>True</td> \n",
       "</tr>\n",
       "<tr>\n",
       "   <td>PG-13</td>    <td>R</td>   <td>-60842943.2872</td>   <td>0.0</td>  <td>-71348702.4083</td> <td>-50337184.1662</td>  <td>True</td> \n",
       "</tr>\n",
       "</table>"
      ],
      "text/plain": [
       "<class 'statsmodels.iolib.table.SimpleTable'>"
      ]
     },
     "execution_count": 194,
     "metadata": {},
     "output_type": "execute_result"
    }
   ],
   "source": [
    "## save the values as revenue and the labels to the certification\n",
    "values = df['revenue']\n",
    "labels = df['certification']\n",
    "## perform tukey's multiple comparison test and display the summary\n",
    "tukeys_results = pairwise_tukeyhsd(values,labels)\n",
    "tukeys_results.summary()\n"
   ]
  },
  {
   "cell_type": "markdown",
   "id": "be0d94fa",
   "metadata": {},
   "source": [
    "- PG-13 and PG have signifiantly higher revenues then R and G"
   ]
  },
  {
   "cell_type": "code",
   "execution_count": 195,
   "id": "8a67ac04",
   "metadata": {},
   "outputs": [
    {
     "data": {
      "image/png": "[encoded data removed]",
      "text/plain": [
       "<Figure size 432x288 with 1 Axes>"
      ]
     },
     "metadata": {
      "needs_background": "light"
     },
     "output_type": "display_data"
    }
   ],
   "source": [
    "# Visualize \n",
    "ax = sns.barplot(data = df, x = \"certification\", y = \"revenue\")\n",
    "ax.set_title(\"Revenue based on MPAA Ratings\");"
   ]
  },
  {
   "cell_type": "code",
   "execution_count": 196,
   "id": "e672c9e0",
   "metadata": {},
   "outputs": [
    {
     "data": {
      "text/plain": [
       "certification\n",
       "G        2.857613e+07\n",
       "PG       7.695424e+07\n",
       "PG-13    7.886813e+07\n",
       "R        1.802519e+07\n",
       "Name: revenue, dtype: float64"
      ]
     },
     "execution_count": 196,
     "metadata": {},
     "output_type": "execute_result"
    }
   ],
   "source": [
    "means = df.groupby(\"certification\")[\"revenue\"].mean()\n",
    "means"
   ]
  },
  {
   "cell_type": "markdown",
   "id": "f71853cd",
   "metadata": {},
   "source": [
    "- Based on the meand and visual PG-13 earns the most revenue and outperforms PG slighly"
   ]
  },
  {
   "cell_type": "markdown",
   "id": "832a0d9e",
   "metadata": {},
   "source": [
    "# Q.2 Do movies in 2019 earn less revenue than movies released in 2018?\n",
    "\n",
    "Null Hypothesis: Movies in 2019 do not earn less revenue than movies released in 2018.\n",
    "\n",
    "Alternate Hypothesis: Movies in 2019 earn significantly less revenue than movies released in 2018."
   ]
  },
  {
   "cell_type": "code",
   "execution_count": 233,
   "id": "3ee1488c",
   "metadata": {},
   "outputs": [
    {
     "data": {
      "text/html": [
       "<div>\n",
       "<style scoped>\n",
       "    .dataframe tbody tr th:only-of-type {\n",
       "        vertical-align: middle;\n",
       "    }\n",
       "\n",
       "    .dataframe tbody tr th {\n",
       "        vertical-align: top;\n",
       "    }\n",
       "\n",
       "    .dataframe thead th {\n",
       "        text-align: right;\n",
       "    }\n",
       "</style>\n",
       "<table border=\"1\" class=\"dataframe\">\n",
       "  <thead>\n",
       "    <tr style=\"text-align: right;\">\n",
       "      <th></th>\n",
       "      <th>imdb_id</th>\n",
       "      <th>adult</th>\n",
       "      <th>backdrop_path</th>\n",
       "      <th>belongs_to_collection</th>\n",
       "      <th>budget</th>\n",
       "      <th>genres</th>\n",
       "      <th>homepage</th>\n",
       "      <th>id</th>\n",
       "      <th>original_language</th>\n",
       "      <th>original_title</th>\n",
       "      <th>...</th>\n",
       "      <th>revenue</th>\n",
       "      <th>runtime</th>\n",
       "      <th>spoken_languages</th>\n",
       "      <th>status</th>\n",
       "      <th>tagline</th>\n",
       "      <th>title</th>\n",
       "      <th>video</th>\n",
       "      <th>vote_average</th>\n",
       "      <th>vote_count</th>\n",
       "      <th>certification</th>\n",
       "    </tr>\n",
       "  </thead>\n",
       "  <tbody>\n",
       "    <tr>\n",
       "      <th>0</th>\n",
       "      <td>tt0176694</td>\n",
       "      <td>0.0</td>\n",
       "      <td>/43VrmHOChLcAOG9S5tIFdsxr3u8.jpg</td>\n",
       "      <td>NaN</td>\n",
       "      <td>0.0</td>\n",
       "      <td>[{'id': 16, 'name': 'Animation'}, {'id': 18, '...</td>\n",
       "      <td>NaN</td>\n",
       "      <td>116369.0</td>\n",
       "      <td>en</td>\n",
       "      <td>Az ember tragédiája</td>\n",
       "      <td>...</td>\n",
       "      <td>0.0</td>\n",
       "      <td>166.0</td>\n",
       "      <td>[{'english_name': 'Hungarian', 'iso_639_1': 'h...</td>\n",
       "      <td>Released</td>\n",
       "      <td>NaN</td>\n",
       "      <td>The Tragedy of Man</td>\n",
       "      <td>0.0</td>\n",
       "      <td>7.5</td>\n",
       "      <td>13.0</td>\n",
       "      <td>NaN</td>\n",
       "    </tr>\n",
       "    <tr>\n",
       "      <th>1</th>\n",
       "      <td>tt0210470</td>\n",
       "      <td>0.0</td>\n",
       "      <td>NaN</td>\n",
       "      <td>NaN</td>\n",
       "      <td>0.0</td>\n",
       "      <td>[{'id': 99, 'name': 'Documentary'}]</td>\n",
       "      <td>NaN</td>\n",
       "      <td>239465.0</td>\n",
       "      <td>en</td>\n",
       "      <td>50 Feet of String</td>\n",
       "      <td>...</td>\n",
       "      <td>0.0</td>\n",
       "      <td>53.0</td>\n",
       "      <td>[{'english_name': 'English', 'iso_639_1': 'en'...</td>\n",
       "      <td>Released</td>\n",
       "      <td>NaN</td>\n",
       "      <td>50 Feet of String</td>\n",
       "      <td>0.0</td>\n",
       "      <td>6.0</td>\n",
       "      <td>3.0</td>\n",
       "      <td>NaN</td>\n",
       "    </tr>\n",
       "    <tr>\n",
       "      <th>2</th>\n",
       "      <td>tt0323808</td>\n",
       "      <td>0.0</td>\n",
       "      <td>NaN</td>\n",
       "      <td>NaN</td>\n",
       "      <td>7750000.0</td>\n",
       "      <td>[{'id': 9648, 'name': 'Mystery'}, {'id': 27, '...</td>\n",
       "      <td>http://www.thewickertreemovie.com/</td>\n",
       "      <td>79544.0</td>\n",
       "      <td>en</td>\n",
       "      <td>The Wicker Tree</td>\n",
       "      <td>...</td>\n",
       "      <td>0.0</td>\n",
       "      <td>96.0</td>\n",
       "      <td>[{'english_name': 'English', 'iso_639_1': 'en'...</td>\n",
       "      <td>Released</td>\n",
       "      <td>Accept our sacrifice</td>\n",
       "      <td>The Wicker Tree</td>\n",
       "      <td>0.0</td>\n",
       "      <td>3.9</td>\n",
       "      <td>41.0</td>\n",
       "      <td>R</td>\n",
       "    </tr>\n",
       "    <tr>\n",
       "      <th>3</th>\n",
       "      <td>tt0372538</td>\n",
       "      <td>0.0</td>\n",
       "      <td>NaN</td>\n",
       "      <td>NaN</td>\n",
       "      <td>5000000.0</td>\n",
       "      <td>[{'id': 28, 'name': 'Action'}, {'id': 80, 'nam...</td>\n",
       "      <td>http://www.spythemovie.com/</td>\n",
       "      <td>323867.0</td>\n",
       "      <td>en</td>\n",
       "      <td>Spy</td>\n",
       "      <td>...</td>\n",
       "      <td>0.0</td>\n",
       "      <td>110.0</td>\n",
       "      <td>[{'english_name': 'English', 'iso_639_1': 'en'...</td>\n",
       "      <td>Released</td>\n",
       "      <td>NaN</td>\n",
       "      <td>Spy</td>\n",
       "      <td>0.0</td>\n",
       "      <td>7.0</td>\n",
       "      <td>1.0</td>\n",
       "      <td>NaN</td>\n",
       "    </tr>\n",
       "    <tr>\n",
       "      <th>4</th>\n",
       "      <td>tt0376136</td>\n",
       "      <td>0.0</td>\n",
       "      <td>/lsGygPY9Qt2OclZ67hAYoHLQhAf.jpg</td>\n",
       "      <td>NaN</td>\n",
       "      <td>45000000.0</td>\n",
       "      <td>[{'id': 35, 'name': 'Comedy'}, {'id': 18, 'nam...</td>\n",
       "      <td>NaN</td>\n",
       "      <td>23514.0</td>\n",
       "      <td>en</td>\n",
       "      <td>The Rum Diary</td>\n",
       "      <td>...</td>\n",
       "      <td>24000000.0</td>\n",
       "      <td>120.0</td>\n",
       "      <td>[{'english_name': 'German', 'iso_639_1': 'de',...</td>\n",
       "      <td>Released</td>\n",
       "      <td>One part outrage. One part justice. Three part...</td>\n",
       "      <td>The Rum Diary</td>\n",
       "      <td>0.0</td>\n",
       "      <td>5.9</td>\n",
       "      <td>980.0</td>\n",
       "      <td>R</td>\n",
       "    </tr>\n",
       "  </tbody>\n",
       "</table>\n",
       "<p>5 rows × 26 columns</p>\n",
       "</div>"
      ],
      "text/plain": [
       "     imdb_id  adult                     backdrop_path belongs_to_collection  \\\n",
       "0  tt0176694    0.0  /43VrmHOChLcAOG9S5tIFdsxr3u8.jpg                   NaN   \n",
       "1  tt0210470    0.0                               NaN                   NaN   \n",
       "2  tt0323808    0.0                               NaN                   NaN   \n",
       "3  tt0372538    0.0                               NaN                   NaN   \n",
       "4  tt0376136    0.0  /lsGygPY9Qt2OclZ67hAYoHLQhAf.jpg                   NaN   \n",
       "\n",
       "       budget                                             genres  \\\n",
       "0         0.0  [{'id': 16, 'name': 'Animation'}, {'id': 18, '...   \n",
       "1         0.0                [{'id': 99, 'name': 'Documentary'}]   \n",
       "2   7750000.0  [{'id': 9648, 'name': 'Mystery'}, {'id': 27, '...   \n",
       "3   5000000.0  [{'id': 28, 'name': 'Action'}, {'id': 80, 'nam...   \n",
       "4  45000000.0  [{'id': 35, 'name': 'Comedy'}, {'id': 18, 'nam...   \n",
       "\n",
       "                             homepage        id original_language  \\\n",
       "0                                 NaN  116369.0                en   \n",
       "1                                 NaN  239465.0                en   \n",
       "2  http://www.thewickertreemovie.com/   79544.0                en   \n",
       "3         http://www.spythemovie.com/  323867.0                en   \n",
       "4                                 NaN   23514.0                en   \n",
       "\n",
       "        original_title  ...     revenue  runtime  \\\n",
       "0  Az ember tragédiája  ...         0.0    166.0   \n",
       "1    50 Feet of String  ...         0.0     53.0   \n",
       "2      The Wicker Tree  ...         0.0     96.0   \n",
       "3                  Spy  ...         0.0    110.0   \n",
       "4        The Rum Diary  ...  24000000.0    120.0   \n",
       "\n",
       "                                    spoken_languages    status  \\\n",
       "0  [{'english_name': 'Hungarian', 'iso_639_1': 'h...  Released   \n",
       "1  [{'english_name': 'English', 'iso_639_1': 'en'...  Released   \n",
       "2  [{'english_name': 'English', 'iso_639_1': 'en'...  Released   \n",
       "3  [{'english_name': 'English', 'iso_639_1': 'en'...  Released   \n",
       "4  [{'english_name': 'German', 'iso_639_1': 'de',...  Released   \n",
       "\n",
       "                                             tagline               title  \\\n",
       "0                                                NaN  The Tragedy of Man   \n",
       "1                                                NaN   50 Feet of String   \n",
       "2                               Accept our sacrifice     The Wicker Tree   \n",
       "3                                                NaN                 Spy   \n",
       "4  One part outrage. One part justice. Three part...       The Rum Diary   \n",
       "\n",
       "   video  vote_average vote_count certification  \n",
       "0    0.0           7.5       13.0           NaN  \n",
       "1    0.0           6.0        3.0           NaN  \n",
       "2    0.0           3.9       41.0             R  \n",
       "3    0.0           7.0        1.0           NaN  \n",
       "4    0.0           5.9      980.0             R  \n",
       "\n",
       "[5 rows x 26 columns]"
      ]
     },
     "execution_count": 233,
     "metadata": {},
     "output_type": "execute_result"
    }
   ],
   "source": [
    "# Reload data \n",
    "df = pd.read_csv(\"Data/combined_all_data.csv.gz\",lineterminator='\\n')\n",
    "df.head()"
   ]
  },
  {
   "cell_type": "code",
   "execution_count": 234,
   "id": "a6e11383",
   "metadata": {},
   "outputs": [
    {
     "data": {
      "text/plain": [
       "2010-01-01    240\n",
       "2011-01-01    209\n",
       "2012-01-01    183\n",
       "2014-01-01    164\n",
       "2015-01-01    146\n",
       "             ... \n",
       "2020-10-25      1\n",
       "2021-02-18      1\n",
       "2020-11-06      1\n",
       "2012-03-18      1\n",
       "2015-01-18      1\n",
       "Name: release_date, Length: 4644, dtype: int64"
      ]
     },
     "execution_count": 234,
     "metadata": {},
     "output_type": "execute_result"
    }
   ],
   "source": [
    "# How many movies in 2019 and how many in 2018 \n",
    "df[\"release_date\"].value_counts()"
   ]
  },
  {
   "cell_type": "code",
   "execution_count": 235,
   "id": "10370a12",
   "metadata": {},
   "outputs": [
    {
     "data": {
      "text/html": [
       "<div>\n",
       "<style scoped>\n",
       "    .dataframe tbody tr th:only-of-type {\n",
       "        vertical-align: middle;\n",
       "    }\n",
       "\n",
       "    .dataframe tbody tr th {\n",
       "        vertical-align: top;\n",
       "    }\n",
       "\n",
       "    .dataframe thead th {\n",
       "        text-align: right;\n",
       "    }\n",
       "</style>\n",
       "<table border=\"1\" class=\"dataframe\">\n",
       "  <thead>\n",
       "    <tr style=\"text-align: right;\">\n",
       "      <th></th>\n",
       "      <th>imdb_id</th>\n",
       "      <th>adult</th>\n",
       "      <th>backdrop_path</th>\n",
       "      <th>belongs_to_collection</th>\n",
       "      <th>budget</th>\n",
       "      <th>genres</th>\n",
       "      <th>homepage</th>\n",
       "      <th>id</th>\n",
       "      <th>original_language</th>\n",
       "      <th>original_title</th>\n",
       "      <th>...</th>\n",
       "      <th>status</th>\n",
       "      <th>tagline</th>\n",
       "      <th>title</th>\n",
       "      <th>video</th>\n",
       "      <th>vote_average</th>\n",
       "      <th>vote_count</th>\n",
       "      <th>certification</th>\n",
       "      <th>year</th>\n",
       "      <th>month</th>\n",
       "      <th>day</th>\n",
       "    </tr>\n",
       "  </thead>\n",
       "  <tbody>\n",
       "    <tr>\n",
       "      <th>0</th>\n",
       "      <td>tt0176694</td>\n",
       "      <td>0.0</td>\n",
       "      <td>/43VrmHOChLcAOG9S5tIFdsxr3u8.jpg</td>\n",
       "      <td>NaN</td>\n",
       "      <td>0.0</td>\n",
       "      <td>[{'id': 16, 'name': 'Animation'}, {'id': 18, '...</td>\n",
       "      <td>NaN</td>\n",
       "      <td>116369.0</td>\n",
       "      <td>en</td>\n",
       "      <td>Az ember tragédiája</td>\n",
       "      <td>...</td>\n",
       "      <td>Released</td>\n",
       "      <td>NaN</td>\n",
       "      <td>The Tragedy of Man</td>\n",
       "      <td>0.0</td>\n",
       "      <td>7.5</td>\n",
       "      <td>13.0</td>\n",
       "      <td>NaN</td>\n",
       "      <td>2011.0</td>\n",
       "      <td>11.0</td>\n",
       "      <td>27.0</td>\n",
       "    </tr>\n",
       "    <tr>\n",
       "      <th>1</th>\n",
       "      <td>tt0210470</td>\n",
       "      <td>0.0</td>\n",
       "      <td>NaN</td>\n",
       "      <td>NaN</td>\n",
       "      <td>0.0</td>\n",
       "      <td>[{'id': 99, 'name': 'Documentary'}]</td>\n",
       "      <td>NaN</td>\n",
       "      <td>239465.0</td>\n",
       "      <td>en</td>\n",
       "      <td>50 Feet of String</td>\n",
       "      <td>...</td>\n",
       "      <td>Released</td>\n",
       "      <td>NaN</td>\n",
       "      <td>50 Feet of String</td>\n",
       "      <td>0.0</td>\n",
       "      <td>6.0</td>\n",
       "      <td>3.0</td>\n",
       "      <td>NaN</td>\n",
       "      <td>1995.0</td>\n",
       "      <td>1.0</td>\n",
       "      <td>1.0</td>\n",
       "    </tr>\n",
       "  </tbody>\n",
       "</table>\n",
       "<p>2 rows × 29 columns</p>\n",
       "</div>"
      ],
      "text/plain": [
       "     imdb_id  adult                     backdrop_path belongs_to_collection  \\\n",
       "0  tt0176694    0.0  /43VrmHOChLcAOG9S5tIFdsxr3u8.jpg                   NaN   \n",
       "1  tt0210470    0.0                               NaN                   NaN   \n",
       "\n",
       "   budget                                             genres homepage  \\\n",
       "0     0.0  [{'id': 16, 'name': 'Animation'}, {'id': 18, '...      NaN   \n",
       "1     0.0                [{'id': 99, 'name': 'Documentary'}]      NaN   \n",
       "\n",
       "         id original_language       original_title  ...    status  tagline  \\\n",
       "0  116369.0                en  Az ember tragédiája  ...  Released      NaN   \n",
       "1  239465.0                en    50 Feet of String  ...  Released      NaN   \n",
       "\n",
       "                title video vote_average vote_count  certification    year  \\\n",
       "0  The Tragedy of Man   0.0          7.5       13.0            NaN  2011.0   \n",
       "1   50 Feet of String   0.0          6.0        3.0            NaN  1995.0   \n",
       "\n",
       "  month   day  \n",
       "0  11.0  27.0  \n",
       "1   1.0   1.0  \n",
       "\n",
       "[2 rows x 29 columns]"
      ]
     },
     "execution_count": 235,
     "metadata": {},
     "output_type": "execute_result"
    }
   ],
   "source": [
    "# split release date into 3 columns \n",
    "new_cols = [\"year\",\"month\",\"day\"]\n",
    "df[new_cols] = df[\"release_date\"].str.split(\"-\", expand = True)\n",
    "df[new_cols] = df[new_cols].astype(float)\n",
    "df.head(2)"
   ]
  },
  {
   "cell_type": "code",
   "execution_count": 236,
   "id": "4d52e631",
   "metadata": {},
   "outputs": [],
   "source": [
    "# drop release date\n",
    "df = df.drop(columns = \"release_date\")"
   ]
  },
  {
   "cell_type": "code",
   "execution_count": 237,
   "id": "17be38fe",
   "metadata": {},
   "outputs": [
    {
     "data": {
      "text/plain": [
       "2018.0    4363\n",
       "Name: year, dtype: int64"
      ]
     },
     "execution_count": 237,
     "metadata": {},
     "output_type": "execute_result"
    }
   ],
   "source": [
    "# How many in 2018\n",
    "df[\"year\"].loc[df[\"year\"]==2018.0].value_counts()\n"
   ]
  },
  {
   "cell_type": "code",
   "execution_count": 238,
   "id": "b1513174",
   "metadata": {},
   "outputs": [
    {
     "data": {
      "text/plain": [
       "2019.0    4541\n",
       "Name: year, dtype: int64"
      ]
     },
     "execution_count": 238,
     "metadata": {},
     "output_type": "execute_result"
    }
   ],
   "source": [
    "# How many in 2019\n",
    "df[\"year\"].loc[df[\"year\"]==2019.0].value_counts()"
   ]
  },
  {
   "cell_type": "code",
   "execution_count": 239,
   "id": "c61c0281",
   "metadata": {},
   "outputs": [],
   "source": [
    "# filtering out 2018 and 2019\n",
    "df_2018 = df.loc[df[\"year\"]==2018.0]\n",
    "df_2019 = df.loc[df[\"year\"]==2019.0]"
   ]
  },
  {
   "cell_type": "code",
   "execution_count": 240,
   "id": "7dc0d473",
   "metadata": {},
   "outputs": [
    {
     "data": {
      "text/html": [
       "<div>\n",
       "<style scoped>\n",
       "    .dataframe tbody tr th:only-of-type {\n",
       "        vertical-align: middle;\n",
       "    }\n",
       "\n",
       "    .dataframe tbody tr th {\n",
       "        vertical-align: top;\n",
       "    }\n",
       "\n",
       "    .dataframe thead th {\n",
       "        text-align: right;\n",
       "    }\n",
       "</style>\n",
       "<table border=\"1\" class=\"dataframe\">\n",
       "  <thead>\n",
       "    <tr style=\"text-align: right;\">\n",
       "      <th></th>\n",
       "      <th>imdb_id</th>\n",
       "      <th>adult</th>\n",
       "      <th>backdrop_path</th>\n",
       "      <th>belongs_to_collection</th>\n",
       "      <th>budget</th>\n",
       "      <th>genres</th>\n",
       "      <th>homepage</th>\n",
       "      <th>id</th>\n",
       "      <th>original_language</th>\n",
       "      <th>original_title</th>\n",
       "      <th>...</th>\n",
       "      <th>status</th>\n",
       "      <th>tagline</th>\n",
       "      <th>title</th>\n",
       "      <th>video</th>\n",
       "      <th>vote_average</th>\n",
       "      <th>vote_count</th>\n",
       "      <th>certification</th>\n",
       "      <th>year</th>\n",
       "      <th>month</th>\n",
       "      <th>day</th>\n",
       "    </tr>\n",
       "  </thead>\n",
       "  <tbody>\n",
       "    <tr>\n",
       "      <th>6470</th>\n",
       "      <td>tt2723334</td>\n",
       "      <td>0.0</td>\n",
       "      <td>NaN</td>\n",
       "      <td>NaN</td>\n",
       "      <td>0.0</td>\n",
       "      <td>[{'id': 27, 'name': 'Horror'}]</td>\n",
       "      <td>NaN</td>\n",
       "      <td>574798.0</td>\n",
       "      <td>en</td>\n",
       "      <td>Darkness Comes</td>\n",
       "      <td>...</td>\n",
       "      <td>Released</td>\n",
       "      <td>When the Light Dies... So Do You</td>\n",
       "      <td>Darkness Comes</td>\n",
       "      <td>0.0</td>\n",
       "      <td>0.0</td>\n",
       "      <td>0.0</td>\n",
       "      <td>NaN</td>\n",
       "      <td>2018.0</td>\n",
       "      <td>5.0</td>\n",
       "      <td>15.0</td>\n",
       "    </tr>\n",
       "    <tr>\n",
       "      <th>7638</th>\n",
       "      <td>tt0825334</td>\n",
       "      <td>0.0</td>\n",
       "      <td>/5Kd0Bi0mg4gJtbWW0jJDjPznBOB.jpg</td>\n",
       "      <td>NaN</td>\n",
       "      <td>0.0</td>\n",
       "      <td>[{'id': 18, 'name': 'Drama'}, {'id': 35, 'name...</td>\n",
       "      <td>NaN</td>\n",
       "      <td>276686.0</td>\n",
       "      <td>it</td>\n",
       "      <td>Caravaggio and My Mother the Pope</td>\n",
       "      <td>...</td>\n",
       "      <td>Released</td>\n",
       "      <td>NaN</td>\n",
       "      <td>Caravaggio and My Mother the Pope</td>\n",
       "      <td>0.0</td>\n",
       "      <td>0.0</td>\n",
       "      <td>0.0</td>\n",
       "      <td>NaN</td>\n",
       "      <td>2018.0</td>\n",
       "      <td>12.0</td>\n",
       "      <td>10.0</td>\n",
       "    </tr>\n",
       "  </tbody>\n",
       "</table>\n",
       "<p>2 rows × 28 columns</p>\n",
       "</div>"
      ],
      "text/plain": [
       "        imdb_id  adult                     backdrop_path  \\\n",
       "6470  tt2723334    0.0                               NaN   \n",
       "7638  tt0825334    0.0  /5Kd0Bi0mg4gJtbWW0jJDjPznBOB.jpg   \n",
       "\n",
       "     belongs_to_collection  budget  \\\n",
       "6470                   NaN     0.0   \n",
       "7638                   NaN     0.0   \n",
       "\n",
       "                                                 genres homepage        id  \\\n",
       "6470                     [{'id': 27, 'name': 'Horror'}]      NaN  574798.0   \n",
       "7638  [{'id': 18, 'name': 'Drama'}, {'id': 35, 'name...      NaN  276686.0   \n",
       "\n",
       "     original_language                     original_title  ...    status  \\\n",
       "6470                en                     Darkness Comes  ...  Released   \n",
       "7638                it  Caravaggio and My Mother the Pope  ...  Released   \n",
       "\n",
       "                               tagline                              title  \\\n",
       "6470  When the Light Dies... So Do You                     Darkness Comes   \n",
       "7638                               NaN  Caravaggio and My Mother the Pope   \n",
       "\n",
       "     video vote_average  vote_count  certification    year month   day  \n",
       "6470   0.0          0.0         0.0            NaN  2018.0   5.0  15.0  \n",
       "7638   0.0          0.0         0.0            NaN  2018.0  12.0  10.0  \n",
       "\n",
       "[2 rows x 28 columns]"
      ]
     },
     "execution_count": 240,
     "metadata": {},
     "output_type": "execute_result"
    }
   ],
   "source": [
    "df_2018.head(2)"
   ]
  },
  {
   "cell_type": "code",
   "execution_count": 241,
   "id": "67193125",
   "metadata": {},
   "outputs": [
    {
     "data": {
      "text/html": [
       "<div>\n",
       "<style scoped>\n",
       "    .dataframe tbody tr th:only-of-type {\n",
       "        vertical-align: middle;\n",
       "    }\n",
       "\n",
       "    .dataframe tbody tr th {\n",
       "        vertical-align: top;\n",
       "    }\n",
       "\n",
       "    .dataframe thead th {\n",
       "        text-align: right;\n",
       "    }\n",
       "</style>\n",
       "<table border=\"1\" class=\"dataframe\">\n",
       "  <thead>\n",
       "    <tr style=\"text-align: right;\">\n",
       "      <th></th>\n",
       "      <th>imdb_id</th>\n",
       "      <th>adult</th>\n",
       "      <th>backdrop_path</th>\n",
       "      <th>belongs_to_collection</th>\n",
       "      <th>budget</th>\n",
       "      <th>genres</th>\n",
       "      <th>homepage</th>\n",
       "      <th>id</th>\n",
       "      <th>original_language</th>\n",
       "      <th>original_title</th>\n",
       "      <th>...</th>\n",
       "      <th>status</th>\n",
       "      <th>tagline</th>\n",
       "      <th>title</th>\n",
       "      <th>video</th>\n",
       "      <th>vote_average</th>\n",
       "      <th>vote_count</th>\n",
       "      <th>certification</th>\n",
       "      <th>year</th>\n",
       "      <th>month</th>\n",
       "      <th>day</th>\n",
       "    </tr>\n",
       "  </thead>\n",
       "  <tbody>\n",
       "    <tr>\n",
       "      <th>7600</th>\n",
       "      <td>tt6208032</td>\n",
       "      <td>0.0</td>\n",
       "      <td>/6GBMyROBo9Uh3CCbXqEDCLgXawv.jpg</td>\n",
       "      <td>NaN</td>\n",
       "      <td>0.0</td>\n",
       "      <td>[{'id': 10752, 'name': 'War'}, {'id': 18, 'nam...</td>\n",
       "      <td>NaN</td>\n",
       "      <td>575331.0</td>\n",
       "      <td>fa</td>\n",
       "      <td>آشغال های دوست داشتنی</td>\n",
       "      <td>...</td>\n",
       "      <td>Released</td>\n",
       "      <td>NaN</td>\n",
       "      <td>Lovely Trash</td>\n",
       "      <td>0.0</td>\n",
       "      <td>4.7</td>\n",
       "      <td>3.0</td>\n",
       "      <td>NaN</td>\n",
       "      <td>2019.0</td>\n",
       "      <td>2.0</td>\n",
       "      <td>13.0</td>\n",
       "    </tr>\n",
       "    <tr>\n",
       "      <th>7758</th>\n",
       "      <td>tt1987680</td>\n",
       "      <td>0.0</td>\n",
       "      <td>/4lQQVRLc7OCEFH6OUaMztwiFPbQ.jpg</td>\n",
       "      <td>NaN</td>\n",
       "      <td>37500000.0</td>\n",
       "      <td>[{'id': 35, 'name': 'Comedy'}, {'id': 18, 'nam...</td>\n",
       "      <td>http://www.theupside.movie/</td>\n",
       "      <td>440472.0</td>\n",
       "      <td>en</td>\n",
       "      <td>The Upside</td>\n",
       "      <td>...</td>\n",
       "      <td>Released</td>\n",
       "      <td>Based on a true story.</td>\n",
       "      <td>The Upside</td>\n",
       "      <td>0.0</td>\n",
       "      <td>7.1</td>\n",
       "      <td>969.0</td>\n",
       "      <td>NaN</td>\n",
       "      <td>2019.0</td>\n",
       "      <td>1.0</td>\n",
       "      <td>10.0</td>\n",
       "    </tr>\n",
       "  </tbody>\n",
       "</table>\n",
       "<p>2 rows × 28 columns</p>\n",
       "</div>"
      ],
      "text/plain": [
       "        imdb_id  adult                     backdrop_path  \\\n",
       "7600  tt6208032    0.0  /6GBMyROBo9Uh3CCbXqEDCLgXawv.jpg   \n",
       "7758  tt1987680    0.0  /4lQQVRLc7OCEFH6OUaMztwiFPbQ.jpg   \n",
       "\n",
       "     belongs_to_collection      budget  \\\n",
       "7600                   NaN         0.0   \n",
       "7758                   NaN  37500000.0   \n",
       "\n",
       "                                                 genres  \\\n",
       "7600  [{'id': 10752, 'name': 'War'}, {'id': 18, 'nam...   \n",
       "7758  [{'id': 35, 'name': 'Comedy'}, {'id': 18, 'nam...   \n",
       "\n",
       "                         homepage        id original_language  \\\n",
       "7600                          NaN  575331.0                fa   \n",
       "7758  http://www.theupside.movie/  440472.0                en   \n",
       "\n",
       "             original_title  ...    status                 tagline  \\\n",
       "7600  آشغال های دوست داشتنی  ...  Released                     NaN   \n",
       "7758             The Upside  ...  Released  Based on a true story.   \n",
       "\n",
       "             title video vote_average  vote_count  certification    year  \\\n",
       "7600  Lovely Trash   0.0          4.7         3.0            NaN  2019.0   \n",
       "7758    The Upside   0.0          7.1       969.0            NaN  2019.0   \n",
       "\n",
       "     month   day  \n",
       "7600   2.0  13.0  \n",
       "7758   1.0  10.0  \n",
       "\n",
       "[2 rows x 28 columns]"
      ]
     },
     "execution_count": 241,
     "metadata": {},
     "output_type": "execute_result"
    }
   ],
   "source": [
    "df_2019.head(2)"
   ]
  },
  {
   "cell_type": "code",
   "execution_count": 206,
   "id": "5399b576",
   "metadata": {},
   "outputs": [],
   "source": [
    "# define feature of interest\n",
    "revenue_2018 = df_2018[\"revenue\"]\n",
    "revenue_2019 = df_2019[\"revenue\"]"
   ]
  },
  {
   "cell_type": "markdown",
   "id": "0bb225e9",
   "metadata": {},
   "source": [
    "## Check for Outliers"
   ]
  },
  {
   "cell_type": "code",
   "execution_count": 242,
   "id": "866476c4",
   "metadata": {},
   "outputs": [
    {
     "data": {
      "text/plain": [
       "20"
      ]
     },
     "execution_count": 242,
     "metadata": {},
     "output_type": "execute_result"
    }
   ],
   "source": [
    "# Check for outliers in 2018 \n",
    "zcores_2018 = stats.zscore(revenue_2018)\n",
    "outliers = abs(zcores_2018)>3\n",
    "np.sum(outliers)"
   ]
  },
  {
   "cell_type": "code",
   "execution_count": 243,
   "id": "7216124f",
   "metadata": {},
   "outputs": [],
   "source": [
    "# Remove outliers since it's only 20 out of 4363\n",
    "revenue_2018 = revenue_2018[(np.abs(stats.zscore(revenue_2018))<3)]"
   ]
  },
  {
   "cell_type": "code",
   "execution_count": 244,
   "id": "1a901d30",
   "metadata": {},
   "outputs": [
    {
     "data": {
      "text/plain": [
       "17"
      ]
     },
     "execution_count": 244,
     "metadata": {},
     "output_type": "execute_result"
    }
   ],
   "source": [
    "# check for outliers in 2019\n",
    "zcores_2019 = stats.zscore(revenue_2019)\n",
    "outliers = abs(zcores_2019)>3\n",
    "np.sum(outliers)"
   ]
  },
  {
   "cell_type": "code",
   "execution_count": 245,
   "id": "dc131a53",
   "metadata": {},
   "outputs": [],
   "source": [
    "# Remove outliers since it's only 17 out of 4541\n",
    "revenue_2019 = revenue_2019[(np.abs(stats.zscore(revenue_2019))<3)]"
   ]
  },
  {
   "cell_type": "markdown",
   "id": "1546d2fe",
   "metadata": {},
   "source": [
    "## Check for Normality "
   ]
  },
  {
   "cell_type": "code",
   "execution_count": 246,
   "id": "f934470a",
   "metadata": {},
   "outputs": [
    {
     "data": {
      "text/plain": [
       "NormaltestResult(statistic=476.0121602637594, pvalue=4.3179015827111206e-104)"
      ]
     },
     "execution_count": 246,
     "metadata": {},
     "output_type": "execute_result"
    }
   ],
   "source": [
    "# Check for normality in 2018\n",
    "result_2018_rev = stats.normaltest(revenue_2018)\n",
    "result_2018_rev"
   ]
  },
  {
   "cell_type": "code",
   "execution_count": 247,
   "id": "1a73b38d",
   "metadata": {},
   "outputs": [
    {
     "data": {
      "text/plain": [
       "NormaltestResult(statistic=419.30416465643657, pvalue=8.897285473466299e-92)"
      ]
     },
     "execution_count": 247,
     "metadata": {},
     "output_type": "execute_result"
    }
   ],
   "source": [
    "# Check for normality in 2019\n",
    "result_2019_rev = stats.normaltest(revenue_2019)\n",
    "result_2019_rev"
   ]
  },
  {
   "cell_type": "markdown",
   "id": "d6e43413",
   "metadata": {},
   "source": [
    "- Since both our p values are both < 0.05 neither of our groups are normally distributed. "
   ]
  },
  {
   "cell_type": "markdown",
   "id": "46227b69",
   "metadata": {},
   "source": [
    "## Check for Equal Variance"
   ]
  },
  {
   "cell_type": "code",
   "execution_count": 248,
   "id": "df8fb913",
   "metadata": {},
   "outputs": [
    {
     "data": {
      "text/plain": [
       "LeveneResult(statistic=1.0399980686223262, pvalue=0.308053957777348)"
      ]
     },
     "execution_count": 248,
     "metadata": {},
     "output_type": "execute_result"
    }
   ],
   "source": [
    "result = stats.levene(revenue_2018,revenue_2019)\n",
    "result"
   ]
  },
  {
   "cell_type": "markdown",
   "id": "cdc75749",
   "metadata": {},
   "source": [
    "- Our pvalue is > 0.05 therefore we have equal variance. "
   ]
  },
  {
   "cell_type": "markdown",
   "id": "0e4284ba",
   "metadata": {},
   "source": [
    "## Perform Independent t-test\n",
    "- We do not have normal distribution but because we have more than 15 samples we will continue\n",
    "- Equal variance is met\n",
    "- 2 Groups are being compared\n",
    "- No significant outliers"
   ]
  },
  {
   "cell_type": "code",
   "execution_count": 249,
   "id": "6bba7acb",
   "metadata": {},
   "outputs": [
    {
     "data": {
      "text/plain": [
       "Ttest_indResult(statistic=-1.0198029557823052, pvalue=0.30805395777731825)"
      ]
     },
     "execution_count": 249,
     "metadata": {},
     "output_type": "execute_result"
    }
   ],
   "source": [
    "# Run independent t-test\n",
    "result = stats.ttest_ind(revenue_2018, revenue_2019)\n",
    "result"
   ]
  },
  {
   "cell_type": "code",
   "execution_count": 250,
   "id": "75392522",
   "metadata": {},
   "outputs": [
    {
     "data": {
      "text/html": [
       "<div>\n",
       "<style scoped>\n",
       "    .dataframe tbody tr th:only-of-type {\n",
       "        vertical-align: middle;\n",
       "    }\n",
       "\n",
       "    .dataframe tbody tr th {\n",
       "        vertical-align: top;\n",
       "    }\n",
       "\n",
       "    .dataframe thead th {\n",
       "        text-align: right;\n",
       "    }\n",
       "</style>\n",
       "<table border=\"1\" class=\"dataframe\">\n",
       "  <thead>\n",
       "    <tr style=\"text-align: right;\">\n",
       "      <th></th>\n",
       "      <th>imdb_id</th>\n",
       "      <th>adult</th>\n",
       "      <th>backdrop_path</th>\n",
       "      <th>belongs_to_collection</th>\n",
       "      <th>budget</th>\n",
       "      <th>genres</th>\n",
       "      <th>homepage</th>\n",
       "      <th>id</th>\n",
       "      <th>original_language</th>\n",
       "      <th>original_title</th>\n",
       "      <th>...</th>\n",
       "      <th>status</th>\n",
       "      <th>tagline</th>\n",
       "      <th>title</th>\n",
       "      <th>video</th>\n",
       "      <th>vote_average</th>\n",
       "      <th>vote_count</th>\n",
       "      <th>certification</th>\n",
       "      <th>year</th>\n",
       "      <th>month</th>\n",
       "      <th>day</th>\n",
       "    </tr>\n",
       "  </thead>\n",
       "  <tbody>\n",
       "    <tr>\n",
       "      <th>6470</th>\n",
       "      <td>tt2723334</td>\n",
       "      <td>0.0</td>\n",
       "      <td>NaN</td>\n",
       "      <td>NaN</td>\n",
       "      <td>0.0</td>\n",
       "      <td>[{'id': 27, 'name': 'Horror'}]</td>\n",
       "      <td>NaN</td>\n",
       "      <td>574798.0</td>\n",
       "      <td>en</td>\n",
       "      <td>Darkness Comes</td>\n",
       "      <td>...</td>\n",
       "      <td>Released</td>\n",
       "      <td>When the Light Dies... So Do You</td>\n",
       "      <td>Darkness Comes</td>\n",
       "      <td>0.0</td>\n",
       "      <td>0.0</td>\n",
       "      <td>0.0</td>\n",
       "      <td>NaN</td>\n",
       "      <td>2018.0</td>\n",
       "      <td>5.0</td>\n",
       "      <td>15.0</td>\n",
       "    </tr>\n",
       "    <tr>\n",
       "      <th>7638</th>\n",
       "      <td>tt0825334</td>\n",
       "      <td>0.0</td>\n",
       "      <td>/5Kd0Bi0mg4gJtbWW0jJDjPznBOB.jpg</td>\n",
       "      <td>NaN</td>\n",
       "      <td>0.0</td>\n",
       "      <td>[{'id': 18, 'name': 'Drama'}, {'id': 35, 'name...</td>\n",
       "      <td>NaN</td>\n",
       "      <td>276686.0</td>\n",
       "      <td>it</td>\n",
       "      <td>Caravaggio and My Mother the Pope</td>\n",
       "      <td>...</td>\n",
       "      <td>Released</td>\n",
       "      <td>NaN</td>\n",
       "      <td>Caravaggio and My Mother the Pope</td>\n",
       "      <td>0.0</td>\n",
       "      <td>0.0</td>\n",
       "      <td>0.0</td>\n",
       "      <td>NaN</td>\n",
       "      <td>2018.0</td>\n",
       "      <td>12.0</td>\n",
       "      <td>10.0</td>\n",
       "    </tr>\n",
       "  </tbody>\n",
       "</table>\n",
       "<p>2 rows × 28 columns</p>\n",
       "</div>"
      ],
      "text/plain": [
       "        imdb_id  adult                     backdrop_path  \\\n",
       "6470  tt2723334    0.0                               NaN   \n",
       "7638  tt0825334    0.0  /5Kd0Bi0mg4gJtbWW0jJDjPznBOB.jpg   \n",
       "\n",
       "     belongs_to_collection  budget  \\\n",
       "6470                   NaN     0.0   \n",
       "7638                   NaN     0.0   \n",
       "\n",
       "                                                 genres homepage        id  \\\n",
       "6470                     [{'id': 27, 'name': 'Horror'}]      NaN  574798.0   \n",
       "7638  [{'id': 18, 'name': 'Drama'}, {'id': 35, 'name...      NaN  276686.0   \n",
       "\n",
       "     original_language                     original_title  ...    status  \\\n",
       "6470                en                     Darkness Comes  ...  Released   \n",
       "7638                it  Caravaggio and My Mother the Pope  ...  Released   \n",
       "\n",
       "                               tagline                              title  \\\n",
       "6470  When the Light Dies... So Do You                     Darkness Comes   \n",
       "7638                               NaN  Caravaggio and My Mother the Pope   \n",
       "\n",
       "     video vote_average  vote_count  certification    year month   day  \n",
       "6470   0.0          0.0         0.0            NaN  2018.0   5.0  15.0  \n",
       "7638   0.0          0.0         0.0            NaN  2018.0  12.0  10.0  \n",
       "\n",
       "[2 rows x 28 columns]"
      ]
     },
     "execution_count": 250,
     "metadata": {},
     "output_type": "execute_result"
    }
   ],
   "source": [
    "# concat dfs for visualization\n",
    "final_df = pd.concat([df_2018,df_2019])\n",
    "final_df.head(2)"
   ]
  },
  {
   "cell_type": "markdown",
   "id": "a7220724",
   "metadata": {},
   "source": [
    "## Final Assumption\n",
    "- Based on our results our pvalue >0.05 so we accept the null hypothesis of movies in 2019 does not earn a significant amount less revenue than movies released in 2018"
   ]
  },
  {
   "cell_type": "code",
   "execution_count": 251,
   "id": "19ba6d42",
   "metadata": {},
   "outputs": [
    {
     "data": {
      "image/png": "[encoded data removed]",
      "text/plain": [
       "<Figure size 432x288 with 1 Axes>"
      ]
     },
     "metadata": {
      "needs_background": "light"
     },
     "output_type": "display_data"
    }
   ],
   "source": [
    "# Visualization \n",
    "ax = sns.barplot(data =df , x = final_df[\"year\"], y = df[\"revenue\"])\n",
    "ax.set_title(\"Comparison of revenue of 2018 and 2019 release date\");"
   ]
  },
  {
   "cell_type": "markdown",
   "id": "ed65e29b",
   "metadata": {},
   "source": [
    "# Q3. Do movies with budgets greater than the average earn more revenue than movies with budgets below the average\n",
    "- Null Hypothesis: Movies that have budgets greater than the average do not earn more than movies with budgets below the average\n",
    "- Alternate Hypothesis: Movies that have budgets greater than the average earn more than movies with budgets below the average"
   ]
  },
  {
   "cell_type": "code",
   "execution_count": 252,
   "id": "4aa6b7b5",
   "metadata": {},
   "outputs": [
    {
     "data": {
      "text/html": [
       "<div>\n",
       "<style scoped>\n",
       "    .dataframe tbody tr th:only-of-type {\n",
       "        vertical-align: middle;\n",
       "    }\n",
       "\n",
       "    .dataframe tbody tr th {\n",
       "        vertical-align: top;\n",
       "    }\n",
       "\n",
       "    .dataframe thead th {\n",
       "        text-align: right;\n",
       "    }\n",
       "</style>\n",
       "<table border=\"1\" class=\"dataframe\">\n",
       "  <thead>\n",
       "    <tr style=\"text-align: right;\">\n",
       "      <th></th>\n",
       "      <th>imdb_id</th>\n",
       "      <th>adult</th>\n",
       "      <th>backdrop_path</th>\n",
       "      <th>belongs_to_collection</th>\n",
       "      <th>budget</th>\n",
       "      <th>genres</th>\n",
       "      <th>homepage</th>\n",
       "      <th>id</th>\n",
       "      <th>original_language</th>\n",
       "      <th>original_title</th>\n",
       "      <th>...</th>\n",
       "      <th>revenue</th>\n",
       "      <th>runtime</th>\n",
       "      <th>spoken_languages</th>\n",
       "      <th>status</th>\n",
       "      <th>tagline</th>\n",
       "      <th>title</th>\n",
       "      <th>video</th>\n",
       "      <th>vote_average</th>\n",
       "      <th>vote_count</th>\n",
       "      <th>certification</th>\n",
       "    </tr>\n",
       "  </thead>\n",
       "  <tbody>\n",
       "    <tr>\n",
       "      <th>0</th>\n",
       "      <td>tt0176694</td>\n",
       "      <td>0.0</td>\n",
       "      <td>/43VrmHOChLcAOG9S5tIFdsxr3u8.jpg</td>\n",
       "      <td>NaN</td>\n",
       "      <td>0.0</td>\n",
       "      <td>[{'id': 16, 'name': 'Animation'}, {'id': 18, '...</td>\n",
       "      <td>NaN</td>\n",
       "      <td>116369.0</td>\n",
       "      <td>en</td>\n",
       "      <td>Az ember tragédiája</td>\n",
       "      <td>...</td>\n",
       "      <td>0.0</td>\n",
       "      <td>166.0</td>\n",
       "      <td>[{'english_name': 'Hungarian', 'iso_639_1': 'h...</td>\n",
       "      <td>Released</td>\n",
       "      <td>NaN</td>\n",
       "      <td>The Tragedy of Man</td>\n",
       "      <td>0.0</td>\n",
       "      <td>7.5</td>\n",
       "      <td>13.0</td>\n",
       "      <td>NaN</td>\n",
       "    </tr>\n",
       "    <tr>\n",
       "      <th>1</th>\n",
       "      <td>tt0210470</td>\n",
       "      <td>0.0</td>\n",
       "      <td>NaN</td>\n",
       "      <td>NaN</td>\n",
       "      <td>0.0</td>\n",
       "      <td>[{'id': 99, 'name': 'Documentary'}]</td>\n",
       "      <td>NaN</td>\n",
       "      <td>239465.0</td>\n",
       "      <td>en</td>\n",
       "      <td>50 Feet of String</td>\n",
       "      <td>...</td>\n",
       "      <td>0.0</td>\n",
       "      <td>53.0</td>\n",
       "      <td>[{'english_name': 'English', 'iso_639_1': 'en'...</td>\n",
       "      <td>Released</td>\n",
       "      <td>NaN</td>\n",
       "      <td>50 Feet of String</td>\n",
       "      <td>0.0</td>\n",
       "      <td>6.0</td>\n",
       "      <td>3.0</td>\n",
       "      <td>NaN</td>\n",
       "    </tr>\n",
       "    <tr>\n",
       "      <th>2</th>\n",
       "      <td>tt0323808</td>\n",
       "      <td>0.0</td>\n",
       "      <td>NaN</td>\n",
       "      <td>NaN</td>\n",
       "      <td>7750000.0</td>\n",
       "      <td>[{'id': 9648, 'name': 'Mystery'}, {'id': 27, '...</td>\n",
       "      <td>http://www.thewickertreemovie.com/</td>\n",
       "      <td>79544.0</td>\n",
       "      <td>en</td>\n",
       "      <td>The Wicker Tree</td>\n",
       "      <td>...</td>\n",
       "      <td>0.0</td>\n",
       "      <td>96.0</td>\n",
       "      <td>[{'english_name': 'English', 'iso_639_1': 'en'...</td>\n",
       "      <td>Released</td>\n",
       "      <td>Accept our sacrifice</td>\n",
       "      <td>The Wicker Tree</td>\n",
       "      <td>0.0</td>\n",
       "      <td>3.9</td>\n",
       "      <td>41.0</td>\n",
       "      <td>R</td>\n",
       "    </tr>\n",
       "    <tr>\n",
       "      <th>3</th>\n",
       "      <td>tt0372538</td>\n",
       "      <td>0.0</td>\n",
       "      <td>NaN</td>\n",
       "      <td>NaN</td>\n",
       "      <td>5000000.0</td>\n",
       "      <td>[{'id': 28, 'name': 'Action'}, {'id': 80, 'nam...</td>\n",
       "      <td>http://www.spythemovie.com/</td>\n",
       "      <td>323867.0</td>\n",
       "      <td>en</td>\n",
       "      <td>Spy</td>\n",
       "      <td>...</td>\n",
       "      <td>0.0</td>\n",
       "      <td>110.0</td>\n",
       "      <td>[{'english_name': 'English', 'iso_639_1': 'en'...</td>\n",
       "      <td>Released</td>\n",
       "      <td>NaN</td>\n",
       "      <td>Spy</td>\n",
       "      <td>0.0</td>\n",
       "      <td>7.0</td>\n",
       "      <td>1.0</td>\n",
       "      <td>NaN</td>\n",
       "    </tr>\n",
       "    <tr>\n",
       "      <th>4</th>\n",
       "      <td>tt0376136</td>\n",
       "      <td>0.0</td>\n",
       "      <td>/lsGygPY9Qt2OclZ67hAYoHLQhAf.jpg</td>\n",
       "      <td>NaN</td>\n",
       "      <td>45000000.0</td>\n",
       "      <td>[{'id': 35, 'name': 'Comedy'}, {'id': 18, 'nam...</td>\n",
       "      <td>NaN</td>\n",
       "      <td>23514.0</td>\n",
       "      <td>en</td>\n",
       "      <td>The Rum Diary</td>\n",
       "      <td>...</td>\n",
       "      <td>24000000.0</td>\n",
       "      <td>120.0</td>\n",
       "      <td>[{'english_name': 'German', 'iso_639_1': 'de',...</td>\n",
       "      <td>Released</td>\n",
       "      <td>One part outrage. One part justice. Three part...</td>\n",
       "      <td>The Rum Diary</td>\n",
       "      <td>0.0</td>\n",
       "      <td>5.9</td>\n",
       "      <td>980.0</td>\n",
       "      <td>R</td>\n",
       "    </tr>\n",
       "  </tbody>\n",
       "</table>\n",
       "<p>5 rows × 26 columns</p>\n",
       "</div>"
      ],
      "text/plain": [
       "     imdb_id  adult                     backdrop_path belongs_to_collection  \\\n",
       "0  tt0176694    0.0  /43VrmHOChLcAOG9S5tIFdsxr3u8.jpg                   NaN   \n",
       "1  tt0210470    0.0                               NaN                   NaN   \n",
       "2  tt0323808    0.0                               NaN                   NaN   \n",
       "3  tt0372538    0.0                               NaN                   NaN   \n",
       "4  tt0376136    0.0  /lsGygPY9Qt2OclZ67hAYoHLQhAf.jpg                   NaN   \n",
       "\n",
       "       budget                                             genres  \\\n",
       "0         0.0  [{'id': 16, 'name': 'Animation'}, {'id': 18, '...   \n",
       "1         0.0                [{'id': 99, 'name': 'Documentary'}]   \n",
       "2   7750000.0  [{'id': 9648, 'name': 'Mystery'}, {'id': 27, '...   \n",
       "3   5000000.0  [{'id': 28, 'name': 'Action'}, {'id': 80, 'nam...   \n",
       "4  45000000.0  [{'id': 35, 'name': 'Comedy'}, {'id': 18, 'nam...   \n",
       "\n",
       "                             homepage        id original_language  \\\n",
       "0                                 NaN  116369.0                en   \n",
       "1                                 NaN  239465.0                en   \n",
       "2  http://www.thewickertreemovie.com/   79544.0                en   \n",
       "3         http://www.spythemovie.com/  323867.0                en   \n",
       "4                                 NaN   23514.0                en   \n",
       "\n",
       "        original_title  ...     revenue  runtime  \\\n",
       "0  Az ember tragédiája  ...         0.0    166.0   \n",
       "1    50 Feet of String  ...         0.0     53.0   \n",
       "2      The Wicker Tree  ...         0.0     96.0   \n",
       "3                  Spy  ...         0.0    110.0   \n",
       "4        The Rum Diary  ...  24000000.0    120.0   \n",
       "\n",
       "                                    spoken_languages    status  \\\n",
       "0  [{'english_name': 'Hungarian', 'iso_639_1': 'h...  Released   \n",
       "1  [{'english_name': 'English', 'iso_639_1': 'en'...  Released   \n",
       "2  [{'english_name': 'English', 'iso_639_1': 'en'...  Released   \n",
       "3  [{'english_name': 'English', 'iso_639_1': 'en'...  Released   \n",
       "4  [{'english_name': 'German', 'iso_639_1': 'de',...  Released   \n",
       "\n",
       "                                             tagline               title  \\\n",
       "0                                                NaN  The Tragedy of Man   \n",
       "1                                                NaN   50 Feet of String   \n",
       "2                               Accept our sacrifice     The Wicker Tree   \n",
       "3                                                NaN                 Spy   \n",
       "4  One part outrage. One part justice. Three part...       The Rum Diary   \n",
       "\n",
       "   video  vote_average vote_count certification  \n",
       "0    0.0           7.5       13.0           NaN  \n",
       "1    0.0           6.0        3.0           NaN  \n",
       "2    0.0           3.9       41.0             R  \n",
       "3    0.0           7.0        1.0           NaN  \n",
       "4    0.0           5.9      980.0             R  \n",
       "\n",
       "[5 rows x 26 columns]"
      ]
     },
     "execution_count": 252,
     "metadata": {},
     "output_type": "execute_result"
    }
   ],
   "source": [
    "# Reload data \n",
    "df = pd.read_csv(\"Data/combined_all_data.csv.gz\",lineterminator='\\n')\n",
    "df.head()"
   ]
  },
  {
   "cell_type": "code",
   "execution_count": 253,
   "id": "e948e6a9",
   "metadata": {},
   "outputs": [
    {
     "data": {
      "text/plain": [
       "2849458.8594083562"
      ]
     },
     "execution_count": 253,
     "metadata": {},
     "output_type": "execute_result"
    }
   ],
   "source": [
    "# get the mean of budget\n",
    "mean = df[\"budget\"].mean()\n",
    "mean"
   ]
  },
  {
   "cell_type": "code",
   "execution_count": 255,
   "id": "b0360a76",
   "metadata": {},
   "outputs": [
    {
     "name": "stdout",
     "output_type": "stream",
     "text": [
      "<class 'pandas.core.frame.DataFrame'>\n",
      "Int64Index: 3472 entries, 2 to 39264\n",
      "Data columns (total 26 columns):\n",
      " #   Column                 Non-Null Count  Dtype  \n",
      "---  ------                 --------------  -----  \n",
      " 0   imdb_id                3472 non-null   object \n",
      " 1   adult                  3472 non-null   float64\n",
      " 2   backdrop_path          3348 non-null   object \n",
      " 3   belongs_to_collection  704 non-null    object \n",
      " 4   budget                 3472 non-null   float64\n",
      " 5   genres                 3472 non-null   object \n",
      " 6   homepage               1623 non-null   object \n",
      " 7   id                     3472 non-null   float64\n",
      " 8   original_language      3472 non-null   object \n",
      " 9   original_title         3472 non-null   object \n",
      " 10  overview               3470 non-null   object \n",
      " 11  popularity             3472 non-null   float64\n",
      " 12  poster_path            3464 non-null   object \n",
      " 13  production_companies   3472 non-null   object \n",
      " 14  production_countries   3472 non-null   object \n",
      " 15  release_date           3472 non-null   object \n",
      " 16  revenue                3472 non-null   float64\n",
      " 17  runtime                3472 non-null   float64\n",
      " 18  spoken_languages       3472 non-null   object \n",
      " 19  status                 3472 non-null   object \n",
      " 20  tagline                2632 non-null   object \n",
      " 21  title                  3472 non-null   object \n",
      " 22  video                  3472 non-null   float64\n",
      " 23  vote_average           3472 non-null   float64\n",
      " 24  vote_count             3472 non-null   float64\n",
      " 25  certification          2504 non-null   object \n",
      "dtypes: float64(9), object(17)\n",
      "memory usage: 732.4+ KB\n"
     ]
    }
   ],
   "source": [
    "# Filter out movies with budget greater than the mean\n",
    "greater_df = df.loc[df[\"budget\"]> mean]\n",
    "greater_df.info()"
   ]
  },
  {
   "cell_type": "code",
   "execution_count": 256,
   "id": "e30b4356",
   "metadata": {},
   "outputs": [
    {
     "data": {
      "text/plain": [
       "3472"
      ]
     },
     "execution_count": 256,
     "metadata": {},
     "output_type": "execute_result"
    }
   ],
   "source": [
    "# How many movies have budgets higher than the mean?\n",
    "len(greater_df)"
   ]
  },
  {
   "cell_type": "code",
   "execution_count": 258,
   "id": "45333706",
   "metadata": {},
   "outputs": [
    {
     "name": "stdout",
     "output_type": "stream",
     "text": [
      "<class 'pandas.core.frame.DataFrame'>\n",
      "Int64Index: 35876 entries, 0 to 39347\n",
      "Data columns (total 26 columns):\n",
      " #   Column                 Non-Null Count  Dtype  \n",
      "---  ------                 --------------  -----  \n",
      " 0   imdb_id                35876 non-null  object \n",
      " 1   adult                  35876 non-null  float64\n",
      " 2   backdrop_path          21471 non-null  object \n",
      " 3   belongs_to_collection  1760 non-null   object \n",
      " 4   budget                 35876 non-null  float64\n",
      " 5   genres                 35876 non-null  object \n",
      " 6   homepage               8408 non-null   object \n",
      " 7   id                     35876 non-null  float64\n",
      " 8   original_language      35876 non-null  object \n",
      " 9   original_title         35876 non-null  object \n",
      " 10  overview               34976 non-null  object \n",
      " 11  popularity             35876 non-null  float64\n",
      " 12  poster_path            32405 non-null  object \n",
      " 13  production_companies   35876 non-null  object \n",
      " 14  production_countries   35876 non-null  object \n",
      " 15  release_date           35289 non-null  object \n",
      " 16  revenue                35876 non-null  float64\n",
      " 17  runtime                35338 non-null  float64\n",
      " 18  spoken_languages       35876 non-null  object \n",
      " 19  status                 35876 non-null  object \n",
      " 20  tagline                11417 non-null  object \n",
      " 21  title                  35876 non-null  object \n",
      " 22  video                  35876 non-null  float64\n",
      " 23  vote_average           35876 non-null  float64\n",
      " 24  vote_count             35876 non-null  float64\n",
      " 25  certification          6433 non-null   object \n",
      "dtypes: float64(9), object(17)\n",
      "memory usage: 7.4+ MB\n"
     ]
    }
   ],
   "source": [
    "# Filter out movies with budget less than the mean\n",
    "less_df = df.loc[df[\"budget\"]< mean]\n",
    "less_df.info()"
   ]
  },
  {
   "cell_type": "code",
   "execution_count": 259,
   "id": "e53c9fa2",
   "metadata": {},
   "outputs": [
    {
     "data": {
      "text/plain": [
       "35876"
      ]
     },
     "execution_count": 259,
     "metadata": {},
     "output_type": "execute_result"
    }
   ],
   "source": [
    "# How many movies have budgets lower than the mean?\n",
    "len(less_df)"
   ]
  },
  {
   "cell_type": "code",
   "execution_count": 260,
   "id": "8cbbfeb7",
   "metadata": {},
   "outputs": [],
   "source": [
    "# define feature of interest\n",
    "greater_rev = greater_df[\"revenue\"]\n",
    "less_rev = less_df[\"revenue\"]"
   ]
  },
  {
   "cell_type": "markdown",
   "id": "78eef504",
   "metadata": {},
   "source": [
    "## Check for Outliers"
   ]
  },
  {
   "cell_type": "code",
   "execution_count": 261,
   "id": "d1a50651",
   "metadata": {},
   "outputs": [
    {
     "data": {
      "text/plain": [
       "95"
      ]
     },
     "execution_count": 261,
     "metadata": {},
     "output_type": "execute_result"
    }
   ],
   "source": [
    "# check for outliers in greater group \n",
    "zscores = stats.zscore(greater_rev)\n",
    "outliers = abs(zscores)>3\n",
    "np.sum(outliers)"
   ]
  },
  {
   "cell_type": "code",
   "execution_count": 262,
   "id": "c1a1e715",
   "metadata": {},
   "outputs": [],
   "source": [
    "# drop outliers since its 95 out of 3472\n",
    "greater_rev = greater_rev[(np.abs(stats.zscore(greater_rev))<3)]"
   ]
  },
  {
   "cell_type": "code",
   "execution_count": 263,
   "id": "b8c0cc27",
   "metadata": {},
   "outputs": [
    {
     "data": {
      "text/plain": [
       "163"
      ]
     },
     "execution_count": 263,
     "metadata": {},
     "output_type": "execute_result"
    }
   ],
   "source": [
    "# check for outliers in less group \n",
    "zscores = stats.zscore(less_rev)\n",
    "outliers = abs(zscores)>3\n",
    "np.sum(outliers)"
   ]
  },
  {
   "cell_type": "code",
   "execution_count": 264,
   "id": "a7463342",
   "metadata": {},
   "outputs": [],
   "source": [
    "# drop outliers since its 163 out of 35876\n",
    "less_rev = less_rev[(np.abs(stats.zscore(less_rev))<3)]"
   ]
  },
  {
   "cell_type": "markdown",
   "id": "f7d66941",
   "metadata": {},
   "source": [
    "## Check for Normality "
   ]
  },
  {
   "cell_type": "code",
   "execution_count": 265,
   "id": "9da81196",
   "metadata": {},
   "outputs": [
    {
     "data": {
      "text/plain": [
       "NormaltestResult(statistic=1897.857593881051, pvalue=0.0)"
      ]
     },
     "execution_count": 265,
     "metadata": {},
     "output_type": "execute_result"
    }
   ],
   "source": [
    "# check for normality in greater group\n",
    "result_greater = stats.normaltest(greater_rev)\n",
    "result_greater"
   ]
  },
  {
   "cell_type": "code",
   "execution_count": 266,
   "id": "e8cc49fe",
   "metadata": {},
   "outputs": [
    {
     "data": {
      "text/plain": [
       "NormaltestResult(statistic=57125.4628066029, pvalue=0.0)"
      ]
     },
     "execution_count": 266,
     "metadata": {},
     "output_type": "execute_result"
    }
   ],
   "source": [
    "# check for normality in non-smoker group \n",
    "result_less = stats.normaltest(less_rev)\n",
    "result_less"
   ]
  },
  {
   "cell_type": "markdown",
   "id": "a445182d",
   "metadata": {},
   "source": [
    "- pvalue is < 0.05 therefore neither of our groups are normally distributed"
   ]
  },
  {
   "cell_type": "markdown",
   "id": "c22ddc7f",
   "metadata": {},
   "source": [
    "## Check for Equal Variance"
   ]
  },
  {
   "cell_type": "code",
   "execution_count": 267,
   "id": "718fe28b",
   "metadata": {},
   "outputs": [
    {
     "data": {
      "text/plain": [
       "LeveneResult(statistic=11438.10701769426, pvalue=0.0)"
      ]
     },
     "execution_count": 267,
     "metadata": {},
     "output_type": "execute_result"
    }
   ],
   "source": [
    "result = stats.levene(greater_rev, less_rev)\n",
    "result"
   ]
  },
  {
   "cell_type": "markdown",
   "id": "f5e403fd",
   "metadata": {},
   "source": [
    "- pvalue is <0.05 therefore we do not have equal variance but will still run the test with equal_var = false"
   ]
  },
  {
   "cell_type": "markdown",
   "id": "ca00aa3b",
   "metadata": {},
   "source": [
    "## Perform Independent t-test\n",
    "- We do not have normal distribution but because we have more than 15 samples we will continue\n",
    "- Equal variance is not met so we will pass equal_var = False\n",
    "- 2 Groups are being compared\n",
    "- No significant outliers"
   ]
  },
  {
   "cell_type": "code",
   "execution_count": 268,
   "id": "ce69cd45",
   "metadata": {},
   "outputs": [
    {
     "data": {
      "text/plain": [
       "Ttest_indResult(statistic=32.25675731030697, pvalue=3.1789696824831126e-199)"
      ]
     },
     "execution_count": 268,
     "metadata": {},
     "output_type": "execute_result"
    }
   ],
   "source": [
    "# Run independent t-test\n",
    "result = stats.ttest_ind(greater_rev, less_rev, equal_var = False)\n",
    "result"
   ]
  },
  {
   "cell_type": "code",
   "execution_count": 269,
   "id": "0e8ce43e",
   "metadata": {},
   "outputs": [
    {
     "data": {
      "text/html": [
       "<div>\n",
       "<style scoped>\n",
       "    .dataframe tbody tr th:only-of-type {\n",
       "        vertical-align: middle;\n",
       "    }\n",
       "\n",
       "    .dataframe tbody tr th {\n",
       "        vertical-align: top;\n",
       "    }\n",
       "\n",
       "    .dataframe thead th {\n",
       "        text-align: right;\n",
       "    }\n",
       "</style>\n",
       "<table border=\"1\" class=\"dataframe\">\n",
       "  <thead>\n",
       "    <tr style=\"text-align: right;\">\n",
       "      <th></th>\n",
       "      <th>imdb_id</th>\n",
       "      <th>adult</th>\n",
       "      <th>backdrop_path</th>\n",
       "      <th>belongs_to_collection</th>\n",
       "      <th>budget</th>\n",
       "      <th>genres</th>\n",
       "      <th>homepage</th>\n",
       "      <th>id</th>\n",
       "      <th>original_language</th>\n",
       "      <th>original_title</th>\n",
       "      <th>...</th>\n",
       "      <th>revenue</th>\n",
       "      <th>runtime</th>\n",
       "      <th>spoken_languages</th>\n",
       "      <th>status</th>\n",
       "      <th>tagline</th>\n",
       "      <th>title</th>\n",
       "      <th>video</th>\n",
       "      <th>vote_average</th>\n",
       "      <th>vote_count</th>\n",
       "      <th>certification</th>\n",
       "    </tr>\n",
       "  </thead>\n",
       "  <tbody>\n",
       "    <tr>\n",
       "      <th>2</th>\n",
       "      <td>tt0323808</td>\n",
       "      <td>0.0</td>\n",
       "      <td>NaN</td>\n",
       "      <td>NaN</td>\n",
       "      <td>7750000.0</td>\n",
       "      <td>[{'id': 9648, 'name': 'Mystery'}, {'id': 27, '...</td>\n",
       "      <td>http://www.thewickertreemovie.com/</td>\n",
       "      <td>79544.0</td>\n",
       "      <td>en</td>\n",
       "      <td>The Wicker Tree</td>\n",
       "      <td>...</td>\n",
       "      <td>0.0</td>\n",
       "      <td>96.0</td>\n",
       "      <td>[{'english_name': 'English', 'iso_639_1': 'en'...</td>\n",
       "      <td>Released</td>\n",
       "      <td>Accept our sacrifice</td>\n",
       "      <td>The Wicker Tree</td>\n",
       "      <td>0.0</td>\n",
       "      <td>3.9</td>\n",
       "      <td>41.0</td>\n",
       "      <td>R</td>\n",
       "    </tr>\n",
       "    <tr>\n",
       "      <th>3</th>\n",
       "      <td>tt0372538</td>\n",
       "      <td>0.0</td>\n",
       "      <td>NaN</td>\n",
       "      <td>NaN</td>\n",
       "      <td>5000000.0</td>\n",
       "      <td>[{'id': 28, 'name': 'Action'}, {'id': 80, 'nam...</td>\n",
       "      <td>http://www.spythemovie.com/</td>\n",
       "      <td>323867.0</td>\n",
       "      <td>en</td>\n",
       "      <td>Spy</td>\n",
       "      <td>...</td>\n",
       "      <td>0.0</td>\n",
       "      <td>110.0</td>\n",
       "      <td>[{'english_name': 'English', 'iso_639_1': 'en'...</td>\n",
       "      <td>Released</td>\n",
       "      <td>NaN</td>\n",
       "      <td>Spy</td>\n",
       "      <td>0.0</td>\n",
       "      <td>7.0</td>\n",
       "      <td>1.0</td>\n",
       "      <td>NaN</td>\n",
       "    </tr>\n",
       "  </tbody>\n",
       "</table>\n",
       "<p>2 rows × 26 columns</p>\n",
       "</div>"
      ],
      "text/plain": [
       "     imdb_id  adult backdrop_path belongs_to_collection     budget  \\\n",
       "2  tt0323808    0.0           NaN                   NaN  7750000.0   \n",
       "3  tt0372538    0.0           NaN                   NaN  5000000.0   \n",
       "\n",
       "                                              genres  \\\n",
       "2  [{'id': 9648, 'name': 'Mystery'}, {'id': 27, '...   \n",
       "3  [{'id': 28, 'name': 'Action'}, {'id': 80, 'nam...   \n",
       "\n",
       "                             homepage        id original_language  \\\n",
       "2  http://www.thewickertreemovie.com/   79544.0                en   \n",
       "3         http://www.spythemovie.com/  323867.0                en   \n",
       "\n",
       "    original_title  ... revenue  runtime  \\\n",
       "2  The Wicker Tree  ...     0.0     96.0   \n",
       "3              Spy  ...     0.0    110.0   \n",
       "\n",
       "                                    spoken_languages    status  \\\n",
       "2  [{'english_name': 'English', 'iso_639_1': 'en'...  Released   \n",
       "3  [{'english_name': 'English', 'iso_639_1': 'en'...  Released   \n",
       "\n",
       "                tagline            title  video  vote_average vote_count  \\\n",
       "2  Accept our sacrifice  The Wicker Tree    0.0           3.9       41.0   \n",
       "3                   NaN              Spy    0.0           7.0        1.0   \n",
       "\n",
       "  certification  \n",
       "2             R  \n",
       "3           NaN  \n",
       "\n",
       "[2 rows x 26 columns]"
      ]
     },
     "execution_count": 269,
     "metadata": {},
     "output_type": "execute_result"
    }
   ],
   "source": [
    "# concat dfs for visualization\n",
    "final_df = pd.concat([greater_df,less_df])\n",
    "final_df.head(2)"
   ]
  },
  {
   "cell_type": "code",
   "execution_count": 279,
   "id": "df64dbb2",
   "metadata": {},
   "outputs": [
    {
     "data": {
      "text/html": [
       "<div>\n",
       "<style scoped>\n",
       "    .dataframe tbody tr th:only-of-type {\n",
       "        vertical-align: middle;\n",
       "    }\n",
       "\n",
       "    .dataframe tbody tr th {\n",
       "        vertical-align: top;\n",
       "    }\n",
       "\n",
       "    .dataframe thead th {\n",
       "        text-align: right;\n",
       "    }\n",
       "</style>\n",
       "<table border=\"1\" class=\"dataframe\">\n",
       "  <thead>\n",
       "    <tr style=\"text-align: right;\">\n",
       "      <th></th>\n",
       "      <th>imdb_id</th>\n",
       "      <th>adult</th>\n",
       "      <th>backdrop_path</th>\n",
       "      <th>belongs_to_collection</th>\n",
       "      <th>budget</th>\n",
       "      <th>genres</th>\n",
       "      <th>homepage</th>\n",
       "      <th>id</th>\n",
       "      <th>original_language</th>\n",
       "      <th>original_title</th>\n",
       "      <th>...</th>\n",
       "      <th>runtime</th>\n",
       "      <th>spoken_languages</th>\n",
       "      <th>status</th>\n",
       "      <th>tagline</th>\n",
       "      <th>title</th>\n",
       "      <th>video</th>\n",
       "      <th>vote_average</th>\n",
       "      <th>vote_count</th>\n",
       "      <th>certification</th>\n",
       "      <th>is_greater</th>\n",
       "    </tr>\n",
       "  </thead>\n",
       "  <tbody>\n",
       "    <tr>\n",
       "      <th>2</th>\n",
       "      <td>tt0323808</td>\n",
       "      <td>0.0</td>\n",
       "      <td>NaN</td>\n",
       "      <td>NaN</td>\n",
       "      <td>7750000.0</td>\n",
       "      <td>[{'id': 9648, 'name': 'Mystery'}, {'id': 27, '...</td>\n",
       "      <td>http://www.thewickertreemovie.com/</td>\n",
       "      <td>79544.0</td>\n",
       "      <td>en</td>\n",
       "      <td>The Wicker Tree</td>\n",
       "      <td>...</td>\n",
       "      <td>96.0</td>\n",
       "      <td>[{'english_name': 'English', 'iso_639_1': 'en'...</td>\n",
       "      <td>Released</td>\n",
       "      <td>Accept our sacrifice</td>\n",
       "      <td>The Wicker Tree</td>\n",
       "      <td>0.0</td>\n",
       "      <td>3.9</td>\n",
       "      <td>41.0</td>\n",
       "      <td>R</td>\n",
       "      <td>True</td>\n",
       "    </tr>\n",
       "    <tr>\n",
       "      <th>3</th>\n",
       "      <td>tt0372538</td>\n",
       "      <td>0.0</td>\n",
       "      <td>NaN</td>\n",
       "      <td>NaN</td>\n",
       "      <td>5000000.0</td>\n",
       "      <td>[{'id': 28, 'name': 'Action'}, {'id': 80, 'nam...</td>\n",
       "      <td>http://www.spythemovie.com/</td>\n",
       "      <td>323867.0</td>\n",
       "      <td>en</td>\n",
       "      <td>Spy</td>\n",
       "      <td>...</td>\n",
       "      <td>110.0</td>\n",
       "      <td>[{'english_name': 'English', 'iso_639_1': 'en'...</td>\n",
       "      <td>Released</td>\n",
       "      <td>NaN</td>\n",
       "      <td>Spy</td>\n",
       "      <td>0.0</td>\n",
       "      <td>7.0</td>\n",
       "      <td>1.0</td>\n",
       "      <td>NaN</td>\n",
       "      <td>True</td>\n",
       "    </tr>\n",
       "    <tr>\n",
       "      <th>4</th>\n",
       "      <td>tt0376136</td>\n",
       "      <td>0.0</td>\n",
       "      <td>/lsGygPY9Qt2OclZ67hAYoHLQhAf.jpg</td>\n",
       "      <td>NaN</td>\n",
       "      <td>45000000.0</td>\n",
       "      <td>[{'id': 35, 'name': 'Comedy'}, {'id': 18, 'nam...</td>\n",
       "      <td>NaN</td>\n",
       "      <td>23514.0</td>\n",
       "      <td>en</td>\n",
       "      <td>The Rum Diary</td>\n",
       "      <td>...</td>\n",
       "      <td>120.0</td>\n",
       "      <td>[{'english_name': 'German', 'iso_639_1': 'de',...</td>\n",
       "      <td>Released</td>\n",
       "      <td>One part outrage. One part justice. Three part...</td>\n",
       "      <td>The Rum Diary</td>\n",
       "      <td>0.0</td>\n",
       "      <td>5.9</td>\n",
       "      <td>980.0</td>\n",
       "      <td>R</td>\n",
       "      <td>True</td>\n",
       "    </tr>\n",
       "    <tr>\n",
       "      <th>5</th>\n",
       "      <td>tt0377981</td>\n",
       "      <td>0.0</td>\n",
       "      <td>/w3LLngJIAA1R7Mp2S3G0HZl2R3H.jpg</td>\n",
       "      <td>{'id': 493668, 'name': 'Gnomeo &amp; Juliet Collec...</td>\n",
       "      <td>36000000.0</td>\n",
       "      <td>[{'id': 16, 'name': 'Animation'}, {'id': 10751...</td>\n",
       "      <td>http://gnomeoandjuliet.com/</td>\n",
       "      <td>45772.0</td>\n",
       "      <td>en</td>\n",
       "      <td>Gnomeo &amp; Juliet</td>\n",
       "      <td>...</td>\n",
       "      <td>84.0</td>\n",
       "      <td>[{'english_name': 'English', 'iso_639_1': 'en'...</td>\n",
       "      <td>Released</td>\n",
       "      <td>A LITTLE ADVENTURE GOES A LAWN WAY.</td>\n",
       "      <td>Gnomeo &amp; Juliet</td>\n",
       "      <td>0.0</td>\n",
       "      <td>5.8</td>\n",
       "      <td>1660.0</td>\n",
       "      <td>G</td>\n",
       "      <td>True</td>\n",
       "    </tr>\n",
       "    <tr>\n",
       "      <th>6</th>\n",
       "      <td>tt0409847</td>\n",
       "      <td>0.0</td>\n",
       "      <td>/f1jJPQ0RhgSOOfBprCJd9ZJMbet.jpg</td>\n",
       "      <td>NaN</td>\n",
       "      <td>163000000.0</td>\n",
       "      <td>[{'id': 28, 'name': 'Action'}, {'id': 878, 'na...</td>\n",
       "      <td>http://www.cowboysandaliensmovie.com/</td>\n",
       "      <td>49849.0</td>\n",
       "      <td>en</td>\n",
       "      <td>Cowboys &amp; Aliens</td>\n",
       "      <td>...</td>\n",
       "      <td>119.0</td>\n",
       "      <td>[{'english_name': 'English', 'iso_639_1': 'en'...</td>\n",
       "      <td>Released</td>\n",
       "      <td>First Contact. Last Stand.</td>\n",
       "      <td>Cowboys &amp; Aliens</td>\n",
       "      <td>0.0</td>\n",
       "      <td>5.6</td>\n",
       "      <td>4340.0</td>\n",
       "      <td>PG-13</td>\n",
       "      <td>True</td>\n",
       "    </tr>\n",
       "  </tbody>\n",
       "</table>\n",
       "<p>5 rows × 27 columns</p>\n",
       "</div>"
      ],
      "text/plain": [
       "     imdb_id  adult                     backdrop_path  \\\n",
       "2  tt0323808    0.0                               NaN   \n",
       "3  tt0372538    0.0                               NaN   \n",
       "4  tt0376136    0.0  /lsGygPY9Qt2OclZ67hAYoHLQhAf.jpg   \n",
       "5  tt0377981    0.0  /w3LLngJIAA1R7Mp2S3G0HZl2R3H.jpg   \n",
       "6  tt0409847    0.0  /f1jJPQ0RhgSOOfBprCJd9ZJMbet.jpg   \n",
       "\n",
       "                               belongs_to_collection       budget  \\\n",
       "2                                                NaN    7750000.0   \n",
       "3                                                NaN    5000000.0   \n",
       "4                                                NaN   45000000.0   \n",
       "5  {'id': 493668, 'name': 'Gnomeo & Juliet Collec...   36000000.0   \n",
       "6                                                NaN  163000000.0   \n",
       "\n",
       "                                              genres  \\\n",
       "2  [{'id': 9648, 'name': 'Mystery'}, {'id': 27, '...   \n",
       "3  [{'id': 28, 'name': 'Action'}, {'id': 80, 'nam...   \n",
       "4  [{'id': 35, 'name': 'Comedy'}, {'id': 18, 'nam...   \n",
       "5  [{'id': 16, 'name': 'Animation'}, {'id': 10751...   \n",
       "6  [{'id': 28, 'name': 'Action'}, {'id': 878, 'na...   \n",
       "\n",
       "                                homepage        id original_language  \\\n",
       "2     http://www.thewickertreemovie.com/   79544.0                en   \n",
       "3            http://www.spythemovie.com/  323867.0                en   \n",
       "4                                    NaN   23514.0                en   \n",
       "5            http://gnomeoandjuliet.com/   45772.0                en   \n",
       "6  http://www.cowboysandaliensmovie.com/   49849.0                en   \n",
       "\n",
       "     original_title  ... runtime  \\\n",
       "2   The Wicker Tree  ...    96.0   \n",
       "3               Spy  ...   110.0   \n",
       "4     The Rum Diary  ...   120.0   \n",
       "5   Gnomeo & Juliet  ...    84.0   \n",
       "6  Cowboys & Aliens  ...   119.0   \n",
       "\n",
       "                                    spoken_languages    status  \\\n",
       "2  [{'english_name': 'English', 'iso_639_1': 'en'...  Released   \n",
       "3  [{'english_name': 'English', 'iso_639_1': 'en'...  Released   \n",
       "4  [{'english_name': 'German', 'iso_639_1': 'de',...  Released   \n",
       "5  [{'english_name': 'English', 'iso_639_1': 'en'...  Released   \n",
       "6  [{'english_name': 'English', 'iso_639_1': 'en'...  Released   \n",
       "\n",
       "                                             tagline             title video  \\\n",
       "2                               Accept our sacrifice   The Wicker Tree   0.0   \n",
       "3                                                NaN               Spy   0.0   \n",
       "4  One part outrage. One part justice. Three part...     The Rum Diary   0.0   \n",
       "5                A LITTLE ADVENTURE GOES A LAWN WAY.   Gnomeo & Juliet   0.0   \n",
       "6                         First Contact. Last Stand.  Cowboys & Aliens   0.0   \n",
       "\n",
       "   vote_average  vote_count certification is_greater  \n",
       "2           3.9        41.0             R       True  \n",
       "3           7.0         1.0           NaN       True  \n",
       "4           5.9       980.0             R       True  \n",
       "5           5.8      1660.0             G       True  \n",
       "6           5.6      4340.0         PG-13       True  \n",
       "\n",
       "[5 rows x 27 columns]"
      ]
     },
     "execution_count": 279,
     "metadata": {},
     "output_type": "execute_result"
    }
   ],
   "source": [
    "# Create new column to assist in visualization\n",
    "final_df[\"is_greater\"] = final_df[\"budget\"] > mean\n",
    "final_df.head()"
   ]
  },
  {
   "cell_type": "markdown",
   "id": "79c5c127",
   "metadata": {},
   "source": [
    "## Final Assumption\n",
    "- Our pvalue is < 0.05 therefore we reject our null hypothesis and assume that movies with a budget higher than the average earn more than movies with budgets below the average"
   ]
  },
  {
   "cell_type": "code",
   "execution_count": 283,
   "id": "360d4578",
   "metadata": {},
   "outputs": [
    {
     "data": {
      "image/png": "[encoded data removed]",
      "text/plain": [
       "<Figure size 432x288 with 1 Axes>"
      ]
     },
     "metadata": {
      "needs_background": "light"
     },
     "output_type": "display_data"
    }
   ],
   "source": [
    "# Visualization of amount of movies \n",
    "ax = sns.countplot(data =df , x = \"is_greater\")\n",
    "ax.set_title(\"Amount of movies that have a budget greater than the average\");"
   ]
  },
  {
   "cell_type": "code",
   "execution_count": null,
   "id": "e853236b",
   "metadata": {},
   "outputs": [],
   "source": []
  }
 ],
 "metadata": {
  "kernelspec": {
   "display_name": "Python 3 (ipykernel)",
   "language": "python",
   "name": "python3"
  },
  "language_info": {
   "codemirror_mode": {
    "name": "ipython",
    "version": 3
   },
   "file_extension": ".py",
   "mimetype": "text/x-python",
   "name": "python",
   "nbconvert_exporter": "python",
   "pygments_lexer": "ipython3",
   "version": "3.7.12"
  },
  "toc": {
   "base_numbering": 1,
   "nav_menu": {},
   "number_sections": true,
   "sideBar": true,
   "skip_h1_title": false,
   "title_cell": "Table of Contents",
   "title_sidebar": "Contents",
   "toc_cell": false,
   "toc_position": {},
   "toc_section_display": true,
   "toc_window_display": true
  }
 },
 "nbformat": 4,
 "nbformat_minor": 5
}
